{
 "cells": [
  {
   "cell_type": "code",
   "execution_count": 16,
   "metadata": {},
   "outputs": [],
   "source": [
    "import pandas as pd"
   ]
  },
  {
   "cell_type": "code",
   "execution_count": 17,
   "metadata": {},
   "outputs": [],
   "source": [
    "contract_address = pd.read_csv('./data/contract_address_list.csv')"
   ]
  },
  {
   "cell_type": "code",
   "execution_count": 18,
   "metadata": {},
   "outputs": [],
   "source": [
    "contract_address_set = set(contract_address['contract_address'])"
   ]
  },
  {
   "cell_type": "code",
   "execution_count": 94,
   "metadata": {
    "scrolled": true
   },
   "outputs": [
    {
     "data": {
      "text/plain": [
       "16562632"
      ]
     },
     "execution_count": 94,
     "metadata": {},
     "output_type": "execute_result"
    }
   ],
   "source": [
    "len(contract_address_set)"
   ]
  },
  {
   "cell_type": "code",
   "execution_count": 20,
   "metadata": {},
   "outputs": [
    {
     "name": "stderr",
     "output_type": "stream",
     "text": [
      "D:\\ProgramData\\anaconda\\lib\\site-packages\\IPython\\core\\interactiveshell.py:3071: DtypeWarning: Columns (4) have mixed types.Specify dtype option on import or set low_memory=False.\n",
      "  has_raised = await self.run_ast_nodes(code_ast.body, cell_name,\n"
     ]
    }
   ],
   "source": [
    "contract_info = pd.read_csv('ContractInfo_buDecreate.csv')"
   ]
  },
  {
   "cell_type": "code",
   "execution_count": 21,
   "metadata": {},
   "outputs": [
    {
     "data": {
      "text/plain": [
       "5706058"
      ]
     },
     "execution_count": 21,
     "metadata": {},
     "output_type": "execute_result"
    }
   ],
   "source": [
    "len(set(contract_info['address']))"
   ]
  },
  {
   "cell_type": "code",
   "execution_count": 22,
   "metadata": {},
   "outputs": [
    {
     "data": {
      "text/plain": [
       "33229960"
      ]
     },
     "execution_count": 22,
     "metadata": {},
     "output_type": "execute_result"
    }
   ],
   "source": [
    "len(contract_info)"
   ]
  },
  {
   "cell_type": "code",
   "execution_count": 23,
   "metadata": {},
   "outputs": [],
   "source": [
    "new_contract_address_set = set(contract_info['address'])"
   ]
  },
  {
   "cell_type": "code",
   "execution_count": 6,
   "metadata": {},
   "outputs": [],
   "source": [
    "import pickle\n",
    "with open('./decreate_contract_address_set.dat', 'wb') as f:\n",
    "    pickle.dump(decreate_contract_address_set,f)"
   ]
  },
  {
   "cell_type": "markdown",
   "metadata": {},
   "source": [
    "## 数据主体"
   ]
  },
  {
   "cell_type": "markdown",
   "metadata": {},
   "source": [
    "### 分片读取 + 选取时间切片 +  剔除合约记录"
   ]
  },
  {
   "cell_type": "code",
   "execution_count": 57,
   "metadata": {},
   "outputs": [],
   "source": [
    "chunker = pd.read_csv('./data/InternalEtherTransaction_queTimestamp.csv'\n",
    "                                  ,usecols=['blockNumber', 'from', 'to', 'value']\n",
    "                                  ,dtype={'blockNumber': int}\n",
    "                                  ,chunksize=1000000)\n"
   ]
  },
  {
   "cell_type": "code",
   "execution_count": null,
   "metadata": {},
   "outputs": [],
   "source": [
    "for item in chunker:\n",
    "    print(item.iloc[0]['blockNumber'])"
   ]
  },
  {
   "cell_type": "code",
   "execution_count": 58,
   "metadata": {},
   "outputs": [
    {
     "name": "stdout",
     "output_type": "stream",
     "text": [
      "7006700 256424802\r"
     ]
    }
   ],
   "source": [
    "filtered_part = pd.DataFrame()\n",
    "for item in chunker:\n",
    "    print(str(item.iloc[0]['blockNumber'])+' ' +str(len(filtered_part)), end='\\r')\n",
    "    if (item.iloc[-1]['blockNumber'] <= 2000000): continue\n",
    "    if (item.iloc[0]['blockNumber'] > 7000000): break\n",
    "    tmp = item[~(item['from'].isin(new_contract_address_set) | item['to'].isin(new_contract_address_set))]\n",
    "    filtered_part = pd.concat([filtered_part, tmp])"
   ]
  },
  {
   "cell_type": "code",
   "execution_count": 59,
   "metadata": {},
   "outputs": [],
   "source": [
    "#len(internal_transaction)"
   ]
  },
  {
   "cell_type": "code",
   "execution_count": 61,
   "metadata": {},
   "outputs": [],
   "source": [
    "#filtered_part[(filtered_part['from'] == '0x0022a370cdebaff99746b8a1311a8d9734bf3a28') | ((filtered_part['to'] == '0x0022a370cdebaff99746b8a1311a8d9734bf3a28'))]"
   ]
  },
  {
   "cell_type": "code",
   "execution_count": 11,
   "metadata": {},
   "outputs": [
    {
     "data": {
      "text/html": [
       "<div>\n",
       "<style scoped>\n",
       "    .dataframe tbody tr th:only-of-type {\n",
       "        vertical-align: middle;\n",
       "    }\n",
       "\n",
       "    .dataframe tbody tr th {\n",
       "        vertical-align: top;\n",
       "    }\n",
       "\n",
       "    .dataframe thead th {\n",
       "        text-align: right;\n",
       "    }\n",
       "</style>\n",
       "<table border=\"1\" class=\"dataframe\">\n",
       "  <thead>\n",
       "    <tr style=\"text-align: right;\">\n",
       "      <th></th>\n",
       "      <th>blockNumber</th>\n",
       "      <th>transactionHash</th>\n",
       "      <th>from</th>\n",
       "      <th>to</th>\n",
       "      <th>value</th>\n",
       "    </tr>\n",
       "  </thead>\n",
       "  <tbody>\n",
       "    <tr>\n",
       "      <th>176257010</th>\n",
       "      <td>5547183</td>\n",
       "      <td>0x6fa40cf0bc1124719c371e474a9743ac7eaa2b781afd...</td>\n",
       "      <td>0xf78c208e3578be35bc1f5468cd2559d70a0b72f0</td>\n",
       "      <td>0x0022a370cdebaff99746b8a1311a8d9734bf3a28</td>\n",
       "      <td>20000000000000000</td>\n",
       "    </tr>\n",
       "    <tr>\n",
       "      <th>186780881</th>\n",
       "      <td>5668104</td>\n",
       "      <td>0x5cb265fe0bdcc0d29da91013e0b2df28cf4f36a8f26a...</td>\n",
       "      <td>0xf78c208e3578be35bc1f5468cd2559d70a0b72f0</td>\n",
       "      <td>0x0022a370cdebaff99746b8a1311a8d9734bf3a28</td>\n",
       "      <td>50000000000000000</td>\n",
       "    </tr>\n",
       "    <tr>\n",
       "      <th>195909343</th>\n",
       "      <td>5781106</td>\n",
       "      <td>0x127dd7c5419b1fc8993cd90778587cc092c80054953c...</td>\n",
       "      <td>0xf78c208e3578be35bc1f5468cd2559d70a0b72f0</td>\n",
       "      <td>0x0022a370cdebaff99746b8a1311a8d9734bf3a28</td>\n",
       "      <td>3000000000000000000</td>\n",
       "    </tr>\n",
       "    <tr>\n",
       "      <th>213519571</th>\n",
       "      <td>6044520</td>\n",
       "      <td>0x8f3d52db088ef145966986ee3b43d7abef13efb7f043...</td>\n",
       "      <td>0x0022a370cdebaff99746b8a1311a8d9734bf3a28</td>\n",
       "      <td>0x1158dcb8a5a37e8fd0f7bb6dd8e74538420079ab</td>\n",
       "      <td>1265720000000000000</td>\n",
       "    </tr>\n",
       "  </tbody>\n",
       "</table>\n",
       "</div>"
      ],
      "text/plain": [
       "           blockNumber                                    transactionHash  \\\n",
       "176257010      5547183  0x6fa40cf0bc1124719c371e474a9743ac7eaa2b781afd...   \n",
       "186780881      5668104  0x5cb265fe0bdcc0d29da91013e0b2df28cf4f36a8f26a...   \n",
       "195909343      5781106  0x127dd7c5419b1fc8993cd90778587cc092c80054953c...   \n",
       "213519571      6044520  0x8f3d52db088ef145966986ee3b43d7abef13efb7f043...   \n",
       "\n",
       "                                                 from  \\\n",
       "176257010  0xf78c208e3578be35bc1f5468cd2559d70a0b72f0   \n",
       "186780881  0xf78c208e3578be35bc1f5468cd2559d70a0b72f0   \n",
       "195909343  0xf78c208e3578be35bc1f5468cd2559d70a0b72f0   \n",
       "213519571  0x0022a370cdebaff99746b8a1311a8d9734bf3a28   \n",
       "\n",
       "                                                   to                value  \n",
       "176257010  0x0022a370cdebaff99746b8a1311a8d9734bf3a28    20000000000000000  \n",
       "186780881  0x0022a370cdebaff99746b8a1311a8d9734bf3a28    50000000000000000  \n",
       "195909343  0x0022a370cdebaff99746b8a1311a8d9734bf3a28  3000000000000000000  \n",
       "213519571  0x1158dcb8a5a37e8fd0f7bb6dd8e74538420079ab  1265720000000000000  "
      ]
     },
     "execution_count": 11,
     "metadata": {},
     "output_type": "execute_result"
    }
   ],
   "source": [
    "#internal_transaction[(internal_transaction['from'] == '0x0022a370cdebaff99746b8a1311a8d9734bf3a28') | ((internal_transaction['to'] == '0x0022a370cdebaff99746b8a1311a8d9734bf3a28'))]"
   ]
  },
  {
   "cell_type": "code",
   "execution_count": 57,
   "metadata": {},
   "outputs": [],
   "source": [
    "#without_contract_data = internal_transaction[~(internal_transaction['from'].isin(contract_address_set) | internal_transaction['to'].isin(contract_address_set))]"
   ]
  },
  {
   "cell_type": "code",
   "execution_count": 62,
   "metadata": {},
   "outputs": [],
   "source": [
    "from_counts = filtered_part['from'].value_counts()\n",
    "to_counts = filtered_part['to'].value_counts()"
   ]
  },
  {
   "cell_type": "code",
   "execution_count": 8,
   "metadata": {},
   "outputs": [],
   "source": [
    "#part_data = internal_transaction.sample(frac=0.001)"
   ]
  },
  {
   "cell_type": "code",
   "execution_count": 61,
   "metadata": {},
   "outputs": [],
   "source": [
    "#from_counts = without_contract_data['from'].value_counts()\n",
    "#to_counts = without_contract_data['to'].value_counts()"
   ]
  },
  {
   "cell_type": "code",
   "execution_count": 69,
   "metadata": {},
   "outputs": [],
   "source": [
    "phishing_label = pd.read_csv('./data/phishing_label.csv')\n",
    "phishing_address_set = set(phishing_label['address'])\n",
    "phising_lowercase_address_set = set(map(lambda x: x.lower(), phishing_address_set))"
   ]
  },
  {
   "cell_type": "code",
   "execution_count": 70,
   "metadata": {},
   "outputs": [
    {
     "data": {
      "text/plain": [
       "2162"
      ]
     },
     "execution_count": 70,
     "metadata": {},
     "output_type": "execute_result"
    }
   ],
   "source": [
    "#len(phising_lowercase_address_set.intersection(set(tmp_df['index'])))"
   ]
  },
  {
   "cell_type": "code",
   "execution_count": 71,
   "metadata": {},
   "outputs": [],
   "source": [
    "phishing_data = filtered_part[(filtered_part['from'].isin(phising_lowercase_address_set) | filtered_part['to'].isin(phising_lowercase_address_set))]"
   ]
  },
  {
   "cell_type": "code",
   "execution_count": null,
   "metadata": {},
   "outputs": [],
   "source": [
    "#phishing_data.sort_values(by='blockNumber')"
   ]
  },
  {
   "cell_type": "code",
   "execution_count": null,
   "metadata": {},
   "outputs": [],
   "source": [
    "#phishing_data['blockNumber'].apply(lambda x: str(x)[:2]).value_counts()"
   ]
  },
  {
   "cell_type": "code",
   "execution_count": 65,
   "metadata": {},
   "outputs": [],
   "source": [
    "tmp_df = pd.DataFrame(to_counts).reset_index()"
   ]
  },
  {
   "cell_type": "code",
   "execution_count": 67,
   "metadata": {},
   "outputs": [
    {
     "data": {
      "text/plain": [
       "164083636"
      ]
     },
     "execution_count": 67,
     "metadata": {},
     "output_type": "execute_result"
    }
   ],
   "source": [
    "tmp_df[tmp_df['to'] < 1000]['to'].sum()"
   ]
  },
  {
   "cell_type": "code",
   "execution_count": 85,
   "metadata": {},
   "outputs": [],
   "source": [
    "import time"
   ]
  },
  {
   "cell_type": "markdown",
   "metadata": {},
   "source": [
    "## 选择数据"
   ]
  },
  {
   "cell_type": "code",
   "execution_count": 117,
   "metadata": {},
   "outputs": [],
   "source": [
    "#200w开始才观测到黑样本，700w为18年末\n",
    "#filtered_data = without_contract_data[(without_contract_data['blockNumber'] > 2000000) & (without_contract_data['blockNumber'] < 7000000)]"
   ]
  },
  {
   "cell_type": "code",
   "execution_count": 124,
   "metadata": {},
   "outputs": [],
   "source": [
    "#from_counts = internal_transaction['from'].value_counts()\n",
    "#to_counts = internal_transaction['to'].value_counts()"
   ]
  },
  {
   "cell_type": "code",
   "execution_count": 72,
   "metadata": {},
   "outputs": [],
   "source": [
    "tmp_df = pd.DataFrame(from_counts).reset_index()\n",
    "tmp_df = tmp_df[(tmp_df['from'] < 1000)]\n",
    "from_low_freq_set = set(tmp_df['index'])\n",
    "\n",
    "tmp_df = pd.DataFrame(to_counts).reset_index()\n",
    "tmp_df = tmp_df[(tmp_df['to'] < 1000)]\n",
    "to_low_freq_set = set(tmp_df['index'])\n",
    "#from to 均 < 1000 较为宽松的条件\n",
    "low_freq_set = from_low_freq_set.intersection(to_low_freq_set)"
   ]
  },
  {
   "cell_type": "code",
   "execution_count": 73,
   "metadata": {},
   "outputs": [
    {
     "data": {
      "text/plain": [
       "33841810"
      ]
     },
     "execution_count": 73,
     "metadata": {},
     "output_type": "execute_result"
    }
   ],
   "source": [
    "len(low_freq_set)"
   ]
  },
  {
   "cell_type": "code",
   "execution_count": 81,
   "metadata": {},
   "outputs": [
    {
     "data": {
      "text/plain": [
       "2880"
      ]
     },
     "execution_count": 81,
     "metadata": {},
     "output_type": "execute_result"
    }
   ],
   "source": [
    "len(phising_lowercase_address_set)"
   ]
  },
  {
   "cell_type": "code",
   "execution_count": 74,
   "metadata": {},
   "outputs": [],
   "source": [
    "filtered_low_freq_data =  filtered_part[(filtered_part['from'].isin(low_freq_set)) & (filtered_part['to'].isin(low_freq_set))]"
   ]
  },
  {
   "cell_type": "code",
   "execution_count": 88,
   "metadata": {},
   "outputs": [],
   "source": [
    "filtered_low_freq_data.to_csv('./data/filtered_data.csv',index = False)"
   ]
  },
  {
   "cell_type": "code",
   "execution_count": 76,
   "metadata": {},
   "outputs": [],
   "source": [
    "filtered_from_low_freq_data_address = set(filtered_low_freq_data['from'])\n",
    "filtered_to_low_freq_data_address = set(filtered_low_freq_data['to'])"
   ]
  },
  {
   "cell_type": "code",
   "execution_count": 77,
   "metadata": {},
   "outputs": [],
   "source": [
    "filtered_low_freq_data_address = filtered_from_low_freq_data_address.union(filtered_to_low_freq_data_address)"
   ]
  },
  {
   "cell_type": "code",
   "execution_count": 86,
   "metadata": {},
   "outputs": [
    {
     "data": {
      "text/plain": [
       "1937"
      ]
     },
     "execution_count": 86,
     "metadata": {},
     "output_type": "execute_result"
    }
   ],
   "source": [
    "len(phising_lowercase_address_set.intersection(filtered_low_freq_data_address))"
   ]
  },
  {
   "cell_type": "code",
   "execution_count": 137,
   "metadata": {},
   "outputs": [
    {
     "data": {
      "text/plain": [
       "1303"
      ]
     },
     "execution_count": 137,
     "metadata": {},
     "output_type": "execute_result"
    }
   ],
   "source": [
    "#len(phishing_set.intersection(filtered_low_freq_data_address))"
   ]
  },
  {
   "cell_type": "code",
   "execution_count": 87,
   "metadata": {},
   "outputs": [],
   "source": [
    "phishing_data.to_csv('./data/all_phishing_data.csv', index=False)"
   ]
  },
  {
   "cell_type": "code",
   "execution_count": 93,
   "metadata": {},
   "outputs": [
    {
     "data": {
      "text/plain": [
       "27680168"
      ]
     },
     "execution_count": 93,
     "metadata": {},
     "output_type": "execute_result"
    }
   ],
   "source": [
    "len(set(filtered_low_freq_data['from']).union(set(filtered_low_freq_data['to'])))"
   ]
  },
  {
   "cell_type": "code",
   "execution_count": null,
   "metadata": {},
   "outputs": [],
   "source": []
  }
 ],
 "metadata": {
  "kernelspec": {
   "display_name": "Python 3",
   "language": "python",
   "name": "python3"
  },
  "language_info": {
   "codemirror_mode": {
    "name": "ipython",
    "version": 3
   },
   "file_extension": ".py",
   "mimetype": "text/x-python",
   "name": "python",
   "nbconvert_exporter": "python",
   "pygments_lexer": "ipython3",
   "version": "3.8.3"
  },
  "varInspector": {
   "cols": {
    "lenName": 16,
    "lenType": 16,
    "lenVar": 40
   },
   "kernels_config": {
    "python": {
     "delete_cmd_postfix": "",
     "delete_cmd_prefix": "del ",
     "library": "var_list.py",
     "varRefreshCmd": "print(var_dic_list())"
    },
    "r": {
     "delete_cmd_postfix": ") ",
     "delete_cmd_prefix": "rm(",
     "library": "var_list.r",
     "varRefreshCmd": "cat(var_dic_list()) "
    }
   },
   "types_to_exclude": [
    "module",
    "function",
    "builtin_function_or_method",
    "instance",
    "_Feature"
   ],
   "window_display": false
  }
 },
 "nbformat": 4,
 "nbformat_minor": 2
}
