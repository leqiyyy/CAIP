{
 "cells": [
  {
   "cell_type": "code",
   "execution_count": 1,
   "metadata": {
    "ExecuteTime": {
     "end_time": "2020-11-23T14:29:47.295420Z",
     "start_time": "2020-11-23T14:29:46.614367Z"
    }
   },
   "outputs": [],
   "source": [
    "import pandas as pd\n",
    "import numpy as np\n",
    "from sklearn import metrics\n",
    "#import xgboost as xgb\n",
    "import lightgbm as lgb\n"
   ]
  },
  {
   "cell_type": "code",
   "execution_count": 2,
   "metadata": {
    "ExecuteTime": {
     "end_time": "2020-11-23T14:29:47.781460Z",
     "start_time": "2020-11-23T14:29:47.550418Z"
    }
   },
   "outputs": [
    {
     "data": {
      "text/plain": [
       "<module 'matplotlib.pyplot' from 'D:\\\\ProgramData\\\\anaconda\\\\lib\\\\site-packages\\\\matplotlib\\\\pyplot.py'>"
      ]
     },
     "execution_count": 2,
     "metadata": {},
     "output_type": "execute_result"
    }
   ],
   "source": [
    "from imp import reload\n",
    "import matplotlib.pyplot as plt  \n",
    "reload(plt)"
   ]
  },
  {
   "cell_type": "markdown",
   "metadata": {},
   "source": [
    "### 读取phishing data"
   ]
  },
  {
   "cell_type": "code",
   "execution_count": 3,
   "metadata": {
    "ExecuteTime": {
     "end_time": "2020-11-23T14:29:48.630631Z",
     "start_time": "2020-11-23T14:29:48.537628Z"
    }
   },
   "outputs": [],
   "source": [
    "phishing_data = pd.read_csv('./data/all_phishing_data.csv')"
   ]
  },
  {
   "cell_type": "code",
   "execution_count": 4,
   "metadata": {
    "ExecuteTime": {
     "end_time": "2020-11-23T14:29:48.714631Z",
     "start_time": "2020-11-23T14:29:48.709630Z"
    }
   },
   "outputs": [
    {
     "data": {
      "text/plain": [
       "70898"
      ]
     },
     "execution_count": 4,
     "metadata": {},
     "output_type": "execute_result"
    }
   ],
   "source": [
    "len(phishing_data)"
   ]
  },
  {
   "cell_type": "code",
   "execution_count": 5,
   "metadata": {
    "ExecuteTime": {
     "end_time": "2020-11-23T14:29:49.015837Z",
     "start_time": "2020-11-23T14:29:49.011833Z"
    }
   },
   "outputs": [],
   "source": [
    "#phishing_data.groupby(['to'])['from'].agg(['count', 'nunique'])"
   ]
  },
  {
   "cell_type": "code",
   "execution_count": 6,
   "metadata": {
    "ExecuteTime": {
     "end_time": "2020-11-23T14:29:49.883878Z",
     "start_time": "2020-11-23T14:29:49.880876Z"
    }
   },
   "outputs": [],
   "source": [
    "#train_data.groupby(['to'])['from'].agg(['count', 'nunique']).mean()"
   ]
  },
  {
   "cell_type": "code",
   "execution_count": 296,
   "metadata": {
    "ExecuteTime": {
     "end_time": "2020-11-25T08:45:53.997203Z",
     "start_time": "2020-11-25T08:45:53.992204Z"
    }
   },
   "outputs": [],
   "source": [
    "#还未划分train test\n",
    "frac = 0.001\n",
    "def feature_matrix_to_train_matrix(features, train_label):\n",
    "    train = pd.merge(left=features, right=train_label, left_on='address', right_on='address', how='inner')\n",
    "    black_sample = train[train['label'] == 1]\n",
    "    white_sample = train[train['label'] == 0].sample(n = 5 * len(black_sample))\n",
    "    train = pd.concat([black_sample, white_sample])\n",
    "    \n",
    "    #打乱黑白样本\n",
    "    train = train.sample(frac=1)\n",
    "    #data = pd.merge(left=features, right=train_label, left_on='from', right_on='address', how='inner')\n",
    "    #train = data[:int(len(data) * frac)]\n",
    "    #test = data[int(len(data) * frac):]\n",
    "    X_train = train.drop(['address', 'label'], axis=1)\n",
    "    #X_train = X_train.sample(frac=frac, axis=1)\n",
    "    y_train = train['label']\n",
    "    #X_test = test.drop(['from', 'to', 'address', 'label'], axis=1)\n",
    "    #y_test = test_label['label']\n",
    "    return X_train, y_train"
   ]
  },
  {
   "cell_type": "code",
   "execution_count": 8,
   "metadata": {
    "ExecuteTime": {
     "end_time": "2020-11-23T14:29:50.198877Z",
     "start_time": "2020-11-23T14:29:50.195876Z"
    }
   },
   "outputs": [],
   "source": [
    "#y_train.sum() / len(y_train)"
   ]
  },
  {
   "cell_type": "code",
   "execution_count": 9,
   "metadata": {
    "ExecuteTime": {
     "end_time": "2020-11-23T14:29:50.460877Z",
     "start_time": "2020-11-23T14:29:50.457878Z"
    }
   },
   "outputs": [],
   "source": [
    "def wei2ether(x):\n",
    "    x = list('0'.zfill(18) + x)\n",
    "    x.insert(-18, '.')\n",
    "    return np.double(''.join(x))"
   ]
  },
  {
   "cell_type": "code",
   "execution_count": 10,
   "metadata": {
    "ExecuteTime": {
     "end_time": "2020-11-23T14:30:39.542188Z",
     "start_time": "2020-11-23T14:29:50.611878Z"
    }
   },
   "outputs": [],
   "source": [
    "train_data = pd.read_csv('./data/train_data_ver2.0.csv')\n",
    "train_label = pd.read_csv('./data/train_label_ver2.0.csv')"
   ]
  },
  {
   "cell_type": "code",
   "execution_count": 11,
   "metadata": {
    "ExecuteTime": {
     "end_time": "2020-11-23T14:31:30.520960Z",
     "start_time": "2020-11-23T14:30:39.556189Z"
    }
   },
   "outputs": [],
   "source": [
    "train_data['value'] = train_data['value'].apply(wei2ether)"
   ]
  },
  {
   "cell_type": "code",
   "execution_count": 12,
   "metadata": {
    "ExecuteTime": {
     "end_time": "2020-11-23T14:31:30.632962Z",
     "start_time": "2020-11-23T14:31:30.537959Z"
    }
   },
   "outputs": [
    {
     "data": {
      "text/plain": [
       "0    9099062\n",
       "1       1220\n",
       "Name: label, dtype: int64"
      ]
     },
     "execution_count": 12,
     "metadata": {},
     "output_type": "execute_result"
    }
   ],
   "source": [
    "train_label['label'].value_counts()"
   ]
  },
  {
   "cell_type": "code",
   "execution_count": 13,
   "metadata": {
    "ExecuteTime": {
     "end_time": "2020-11-23T14:31:30.647961Z",
     "start_time": "2020-11-23T14:31:30.644961Z"
    }
   },
   "outputs": [
    {
     "data": {
      "text/plain": [
       "30956458"
      ]
     },
     "execution_count": 13,
     "metadata": {},
     "output_type": "execute_result"
    }
   ],
   "source": [
    "len(train_data)"
   ]
  },
  {
   "cell_type": "markdown",
   "metadata": {},
   "source": [
    "## 观察数据"
   ]
  },
  {
   "cell_type": "code",
   "execution_count": 14,
   "metadata": {
    "ExecuteTime": {
     "end_time": "2020-11-23T14:31:38.849194Z",
     "start_time": "2020-11-23T14:31:30.663959Z"
    }
   },
   "outputs": [
    {
     "data": {
      "text/plain": [
       "8639415"
      ]
     },
     "execution_count": 14,
     "metadata": {},
     "output_type": "execute_result"
    }
   ],
   "source": [
    "len(set(train_data['to']))"
   ]
  },
  {
   "cell_type": "code",
   "execution_count": 15,
   "metadata": {
    "ExecuteTime": {
     "end_time": "2020-11-23T14:31:38.871197Z",
     "start_time": "2020-11-23T14:31:38.864199Z"
    }
   },
   "outputs": [],
   "source": [
    "def get_trival_feature(train_data):\n",
    "    #feature between from and block:\n",
    "    from_block_feature = train_data.groupby(['from'])['blockNumber'].agg([np.ptp, 'std']).add_prefix('from_block_')\n",
    "    from_value_feature = train_data.groupby(['from'])['value'].agg(['sum', 'mean', 'std', 'max', 'min']).add_prefix('from_value_')\n",
    "    from_feature = pd.concat([from_block_feature, from_value_feature], axis = 1)\n",
    "    #from_feature = from_feature.merge(left_on='from', right=train_address, right_on='address', how='right')\n",
    "    to_block_feature = train_data.groupby(['to'])['blockNumber'].agg([np.ptp, 'std']).add_prefix('to_block_')\n",
    "    to_value_feature = train_data.groupby(['to'])['value'].agg(['sum', 'mean', 'std', 'max', 'min']).add_prefix('to_value_')\n",
    "    to_feature = pd.concat([to_block_feature, to_value_feature], axis = 1)\n",
    "    from_feature.reset_index(inplace=True)\n",
    "    to_feature.reset_index(inplace=True)\n",
    "    #to_feature = to_feature.merge(left_on='to', right=train_address, right_on='address', how='right')\n",
    "    trival_feature = pd.merge(left=from_feature, right=to_feature, left_on='from', right_on='to', how='inner')\n",
    "    trival_feature['address'] = trival_feature['from']\n",
    "    trival_feature.drop(['from', 'to'], axis = 1, inplace=True)\n",
    "    return trival_feature"
   ]
  },
  {
   "cell_type": "code",
   "execution_count": 16,
   "metadata": {
    "ExecuteTime": {
     "end_time": "2020-11-23T14:31:38.887198Z",
     "start_time": "2020-11-23T14:31:38.885196Z"
    }
   },
   "outputs": [],
   "source": [
    "train_address =train_label['address']"
   ]
  },
  {
   "cell_type": "code",
   "execution_count": 17,
   "metadata": {
    "ExecuteTime": {
     "end_time": "2020-11-23T14:31:38.912196Z",
     "start_time": "2020-11-23T14:31:38.901197Z"
    }
   },
   "outputs": [
    {
     "data": {
      "text/html": [
       "<div>\n",
       "<style scoped>\n",
       "    .dataframe tbody tr th:only-of-type {\n",
       "        vertical-align: middle;\n",
       "    }\n",
       "\n",
       "    .dataframe tbody tr th {\n",
       "        vertical-align: top;\n",
       "    }\n",
       "\n",
       "    .dataframe thead th {\n",
       "        text-align: right;\n",
       "    }\n",
       "</style>\n",
       "<table border=\"1\" class=\"dataframe\">\n",
       "  <thead>\n",
       "    <tr style=\"text-align: right;\">\n",
       "      <th></th>\n",
       "      <th>blockNumber</th>\n",
       "      <th>from</th>\n",
       "      <th>to</th>\n",
       "      <th>value</th>\n",
       "    </tr>\n",
       "  </thead>\n",
       "  <tbody>\n",
       "    <tr>\n",
       "      <th>0</th>\n",
       "      <td>1917029</td>\n",
       "      <td>0xcf5cdd85813129271c907348325c013847674fc6</td>\n",
       "      <td>0x60aa80fe41b43c180870a137c7a87334e5c3cb5d</td>\n",
       "      <td>2.100000e-01</td>\n",
       "    </tr>\n",
       "    <tr>\n",
       "      <th>1</th>\n",
       "      <td>1917031</td>\n",
       "      <td>0x63656b599cb67a18b5be74f7dcd269137a6efdcb</td>\n",
       "      <td>0x7180eb39a6264938fdb3effd7341c4727c382153</td>\n",
       "      <td>9.995800e-01</td>\n",
       "    </tr>\n",
       "    <tr>\n",
       "      <th>2</th>\n",
       "      <td>1917031</td>\n",
       "      <td>0x63656b599cb67a18b5be74f7dcd269137a6efdcb</td>\n",
       "      <td>0x7180eb39a6264938fdb3effd7341c4727c382153</td>\n",
       "      <td>9.995800e-01</td>\n",
       "    </tr>\n",
       "    <tr>\n",
       "      <th>3</th>\n",
       "      <td>1917032</td>\n",
       "      <td>0xea321e7e27877e4e623a74b1262f184f404a8319</td>\n",
       "      <td>0x1e639f11abdd00fca7779aab75c3c3ed10c0d1a0</td>\n",
       "      <td>8.900000e-01</td>\n",
       "    </tr>\n",
       "    <tr>\n",
       "      <th>4</th>\n",
       "      <td>1917032</td>\n",
       "      <td>0x60aa80fe41b43c180870a137c7a87334e5c3cb5d</td>\n",
       "      <td>0xcf5cdd85813129271c907348325c013847674fc6</td>\n",
       "      <td>1.000000e-18</td>\n",
       "    </tr>\n",
       "    <tr>\n",
       "      <th>...</th>\n",
       "      <td>...</td>\n",
       "      <td>...</td>\n",
       "      <td>...</td>\n",
       "      <td>...</td>\n",
       "    </tr>\n",
       "    <tr>\n",
       "      <th>30956453</th>\n",
       "      <td>7006697</td>\n",
       "      <td>0xcdfaa6fd2461d7129a7fdc193c9d97504ff3b6f6</td>\n",
       "      <td>0x3b00a158410514fc4bbd40bf51f6fd0d140fb45d</td>\n",
       "      <td>1.800000e-01</td>\n",
       "    </tr>\n",
       "    <tr>\n",
       "      <th>30956454</th>\n",
       "      <td>7006697</td>\n",
       "      <td>0x20e6f8babbfdf132d049814698ec2281ae4b3da3</td>\n",
       "      <td>0xebe68414ab9a7d9124b685c9bb6f70d553a01664</td>\n",
       "      <td>1.789200e-03</td>\n",
       "    </tr>\n",
       "    <tr>\n",
       "      <th>30956455</th>\n",
       "      <td>7006699</td>\n",
       "      <td>0x29bc381c5a88d0fea8f60818725acceee9b981e7</td>\n",
       "      <td>0x968c6686b9d4f8f2aed5a6c5ea629f67cfc9ac2e</td>\n",
       "      <td>1.400000e+01</td>\n",
       "    </tr>\n",
       "    <tr>\n",
       "      <th>30956456</th>\n",
       "      <td>7006699</td>\n",
       "      <td>0xa2d3d545de4235044fff5116a4f8a043aaf13821</td>\n",
       "      <td>0x25bddd8c28d657f190d8e32cda1e29207718a7da</td>\n",
       "      <td>2.910000e+00</td>\n",
       "    </tr>\n",
       "    <tr>\n",
       "      <th>30956457</th>\n",
       "      <td>7006700</td>\n",
       "      <td>0x37eaf9a198795424a14949b688da76d17aabd45d</td>\n",
       "      <td>0x431aaece8483c4fb50cb5af3e717f82fd8a9903f</td>\n",
       "      <td>1.000000e-02</td>\n",
       "    </tr>\n",
       "  </tbody>\n",
       "</table>\n",
       "<p>30956458 rows × 4 columns</p>\n",
       "</div>"
      ],
      "text/plain": [
       "          blockNumber                                        from  \\\n",
       "0             1917029  0xcf5cdd85813129271c907348325c013847674fc6   \n",
       "1             1917031  0x63656b599cb67a18b5be74f7dcd269137a6efdcb   \n",
       "2             1917031  0x63656b599cb67a18b5be74f7dcd269137a6efdcb   \n",
       "3             1917032  0xea321e7e27877e4e623a74b1262f184f404a8319   \n",
       "4             1917032  0x60aa80fe41b43c180870a137c7a87334e5c3cb5d   \n",
       "...               ...                                         ...   \n",
       "30956453      7006697  0xcdfaa6fd2461d7129a7fdc193c9d97504ff3b6f6   \n",
       "30956454      7006697  0x20e6f8babbfdf132d049814698ec2281ae4b3da3   \n",
       "30956455      7006699  0x29bc381c5a88d0fea8f60818725acceee9b981e7   \n",
       "30956456      7006699  0xa2d3d545de4235044fff5116a4f8a043aaf13821   \n",
       "30956457      7006700  0x37eaf9a198795424a14949b688da76d17aabd45d   \n",
       "\n",
       "                                                  to         value  \n",
       "0         0x60aa80fe41b43c180870a137c7a87334e5c3cb5d  2.100000e-01  \n",
       "1         0x7180eb39a6264938fdb3effd7341c4727c382153  9.995800e-01  \n",
       "2         0x7180eb39a6264938fdb3effd7341c4727c382153  9.995800e-01  \n",
       "3         0x1e639f11abdd00fca7779aab75c3c3ed10c0d1a0  8.900000e-01  \n",
       "4         0xcf5cdd85813129271c907348325c013847674fc6  1.000000e-18  \n",
       "...                                              ...           ...  \n",
       "30956453  0x3b00a158410514fc4bbd40bf51f6fd0d140fb45d  1.800000e-01  \n",
       "30956454  0xebe68414ab9a7d9124b685c9bb6f70d553a01664  1.789200e-03  \n",
       "30956455  0x968c6686b9d4f8f2aed5a6c5ea629f67cfc9ac2e  1.400000e+01  \n",
       "30956456  0x25bddd8c28d657f190d8e32cda1e29207718a7da  2.910000e+00  \n",
       "30956457  0x431aaece8483c4fb50cb5af3e717f82fd8a9903f  1.000000e-02  \n",
       "\n",
       "[30956458 rows x 4 columns]"
      ]
     },
     "execution_count": 17,
     "metadata": {},
     "output_type": "execute_result"
    }
   ],
   "source": [
    "#pre sampled\n",
    "train_data"
   ]
  },
  {
   "cell_type": "code",
   "execution_count": 18,
   "metadata": {
    "ExecuteTime": {
     "end_time": "2020-11-23T14:37:17.069743Z",
     "start_time": "2020-11-23T14:31:38.927197Z"
    }
   },
   "outputs": [],
   "source": [
    "#feature between from and block:\n",
    "from_block_feature = train_data.groupby(['from'])['blockNumber'].agg([np.ptp, 'std']).add_prefix('from_block_')"
   ]
  },
  {
   "cell_type": "code",
   "execution_count": 19,
   "metadata": {
    "ExecuteTime": {
     "end_time": "2020-11-23T14:38:11.909672Z",
     "start_time": "2020-11-23T14:37:17.088743Z"
    }
   },
   "outputs": [],
   "source": [
    "from_value_feature = train_data.groupby(['from'])['value'].agg(['sum', 'mean', 'std', 'max', 'min']).add_prefix('from_value_')"
   ]
  },
  {
   "cell_type": "code",
   "execution_count": 20,
   "metadata": {
    "ExecuteTime": {
     "end_time": "2020-11-23T14:38:15.014727Z",
     "start_time": "2020-11-23T14:38:11.932673Z"
    }
   },
   "outputs": [],
   "source": [
    "from_feature = pd.concat([from_block_feature, from_value_feature], axis = 1)\n",
    "#from_feature = from_feature.merge(left_on='from', right=train_address, right_on='address', how='right')\n",
    "#from_feature.fillna(0, inplace=True)"
   ]
  },
  {
   "cell_type": "code",
   "execution_count": 21,
   "metadata": {
    "ExecuteTime": {
     "end_time": "2020-11-23T14:45:13.373229Z",
     "start_time": "2020-11-23T14:38:15.040733Z"
    }
   },
   "outputs": [],
   "source": [
    "to_block_feature = train_data.groupby(['to'])['blockNumber'].agg([np.ptp, 'std']).add_prefix('to_block_')\n",
    "to_value_feature = train_data.groupby(['to'])['value'].agg(['sum', 'mean', 'std', 'max', 'min']).add_prefix('to_value_')"
   ]
  },
  {
   "cell_type": "code",
   "execution_count": 22,
   "metadata": {
    "ExecuteTime": {
     "end_time": "2020-11-23T14:45:16.838524Z",
     "start_time": "2020-11-23T14:45:13.404225Z"
    }
   },
   "outputs": [],
   "source": [
    "to_feature = pd.concat([to_block_feature, to_value_feature], axis = 1)\n",
    "#to_feature = to_feature.merge(left_on='to', right=train_address, right_on='address', how='right')"
   ]
  },
  {
   "cell_type": "code",
   "execution_count": 23,
   "metadata": {
    "ExecuteTime": {
     "end_time": "2020-11-23T14:45:17.360157Z",
     "start_time": "2020-11-23T14:45:16.871523Z"
    }
   },
   "outputs": [],
   "source": [
    "from_feature.reset_index(inplace=True)\n",
    "to_feature.reset_index(inplace=True)"
   ]
  },
  {
   "cell_type": "code",
   "execution_count": 24,
   "metadata": {
    "ExecuteTime": {
     "end_time": "2020-11-23T14:45:37.187267Z",
     "start_time": "2020-11-23T14:45:17.392157Z"
    }
   },
   "outputs": [],
   "source": [
    "#merge方式\n",
    "\n",
    "trival_feature = pd.merge(left=from_feature, right=to_feature, left_on='from', right_on='to', how='inner')"
   ]
  },
  {
   "cell_type": "code",
   "execution_count": 25,
   "metadata": {
    "ExecuteTime": {
     "end_time": "2020-11-23T14:45:37.249266Z",
     "start_time": "2020-11-23T14:45:37.229264Z"
    }
   },
   "outputs": [
    {
     "data": {
      "text/html": [
       "<div>\n",
       "<style scoped>\n",
       "    .dataframe tbody tr th:only-of-type {\n",
       "        vertical-align: middle;\n",
       "    }\n",
       "\n",
       "    .dataframe tbody tr th {\n",
       "        vertical-align: top;\n",
       "    }\n",
       "\n",
       "    .dataframe thead th {\n",
       "        text-align: right;\n",
       "    }\n",
       "</style>\n",
       "<table border=\"1\" class=\"dataframe\">\n",
       "  <thead>\n",
       "    <tr style=\"text-align: right;\">\n",
       "      <th></th>\n",
       "      <th>from</th>\n",
       "      <th>from_block_ptp</th>\n",
       "      <th>from_block_std</th>\n",
       "      <th>from_value_sum</th>\n",
       "      <th>from_value_mean</th>\n",
       "      <th>from_value_std</th>\n",
       "      <th>from_value_max</th>\n",
       "      <th>from_value_min</th>\n",
       "      <th>to</th>\n",
       "      <th>to_block_ptp</th>\n",
       "      <th>to_block_std</th>\n",
       "      <th>to_value_sum</th>\n",
       "      <th>to_value_mean</th>\n",
       "      <th>to_value_std</th>\n",
       "      <th>to_value_max</th>\n",
       "      <th>to_value_min</th>\n",
       "    </tr>\n",
       "  </thead>\n",
       "  <tbody>\n",
       "    <tr>\n",
       "      <th>0</th>\n",
       "      <td>0x0000000048246c5f37df029bef0cefd9ee36f301</td>\n",
       "      <td>35020</td>\n",
       "      <td>16237.896054</td>\n",
       "      <td>1.906650e-01</td>\n",
       "      <td>4.766626e-02</td>\n",
       "      <td>0.055247</td>\n",
       "      <td>1.282759e-01</td>\n",
       "      <td>9.346600e-03</td>\n",
       "      <td>0x0000000048246c5f37df029bef0cefd9ee36f301</td>\n",
       "      <td>93379</td>\n",
       "      <td>38911.802283</td>\n",
       "      <td>0.079356</td>\n",
       "      <td>0.019839</td>\n",
       "      <td>0.008781</td>\n",
       "      <td>0.029139</td>\n",
       "      <td>0.010000</td>\n",
       "    </tr>\n",
       "    <tr>\n",
       "      <th>1</th>\n",
       "      <td>0x000000004fdd41501a42651743c55f7e41ec85e4</td>\n",
       "      <td>322138</td>\n",
       "      <td>144046.283394</td>\n",
       "      <td>4.281103e-02</td>\n",
       "      <td>1.070276e-02</td>\n",
       "      <td>0.012553</td>\n",
       "      <td>2.620300e-02</td>\n",
       "      <td>1.000000e-05</td>\n",
       "      <td>0x000000004fdd41501a42651743c55f7e41ec85e4</td>\n",
       "      <td>0</td>\n",
       "      <td>NaN</td>\n",
       "      <td>0.054110</td>\n",
       "      <td>0.054110</td>\n",
       "      <td>NaN</td>\n",
       "      <td>0.054110</td>\n",
       "      <td>0.054110</td>\n",
       "    </tr>\n",
       "    <tr>\n",
       "      <th>2</th>\n",
       "      <td>0x00000000666bc8d3212838a58e92c18e6cfe9ef1</td>\n",
       "      <td>0</td>\n",
       "      <td>NaN</td>\n",
       "      <td>8.888889e-11</td>\n",
       "      <td>8.888889e-11</td>\n",
       "      <td>NaN</td>\n",
       "      <td>8.888889e-11</td>\n",
       "      <td>8.888889e-11</td>\n",
       "      <td>0x00000000666bc8d3212838a58e92c18e6cfe9ef1</td>\n",
       "      <td>1168154</td>\n",
       "      <td>826009.614870</td>\n",
       "      <td>0.070910</td>\n",
       "      <td>0.035455</td>\n",
       "      <td>0.050127</td>\n",
       "      <td>0.070900</td>\n",
       "      <td>0.000010</td>\n",
       "    </tr>\n",
       "    <tr>\n",
       "      <th>3</th>\n",
       "      <td>0x00000000ad4eb06bc550dc45ce28888c0626839a</td>\n",
       "      <td>80</td>\n",
       "      <td>22.360860</td>\n",
       "      <td>7.324813e+01</td>\n",
       "      <td>1.331784e+00</td>\n",
       "      <td>1.810276</td>\n",
       "      <td>9.183630e+00</td>\n",
       "      <td>1.006096e-01</td>\n",
       "      <td>0x00000000ad4eb06bc550dc45ce28888c0626839a</td>\n",
       "      <td>0</td>\n",
       "      <td>NaN</td>\n",
       "      <td>103.500000</td>\n",
       "      <td>103.500000</td>\n",
       "      <td>NaN</td>\n",
       "      <td>103.500000</td>\n",
       "      <td>103.500000</td>\n",
       "    </tr>\n",
       "    <tr>\n",
       "      <th>4</th>\n",
       "      <td>0x00000000b9d54fb8ab1a28ebd2ccbfe3247e517f</td>\n",
       "      <td>0</td>\n",
       "      <td>NaN</td>\n",
       "      <td>2.669227e+00</td>\n",
       "      <td>2.669227e+00</td>\n",
       "      <td>NaN</td>\n",
       "      <td>2.669227e+00</td>\n",
       "      <td>2.669227e+00</td>\n",
       "      <td>0x00000000b9d54fb8ab1a28ebd2ccbfe3247e517f</td>\n",
       "      <td>270001</td>\n",
       "      <td>145332.203372</td>\n",
       "      <td>43.790000</td>\n",
       "      <td>14.596667</td>\n",
       "      <td>6.829863</td>\n",
       "      <td>19.900000</td>\n",
       "      <td>6.890000</td>\n",
       "    </tr>\n",
       "    <tr>\n",
       "      <th>...</th>\n",
       "      <td>...</td>\n",
       "      <td>...</td>\n",
       "      <td>...</td>\n",
       "      <td>...</td>\n",
       "      <td>...</td>\n",
       "      <td>...</td>\n",
       "      <td>...</td>\n",
       "      <td>...</td>\n",
       "      <td>...</td>\n",
       "      <td>...</td>\n",
       "      <td>...</td>\n",
       "      <td>...</td>\n",
       "      <td>...</td>\n",
       "      <td>...</td>\n",
       "      <td>...</td>\n",
       "      <td>...</td>\n",
       "    </tr>\n",
       "    <tr>\n",
       "      <th>7587228</th>\n",
       "      <td>0xfffffd2b4cbf69d99a7997bc3543191c79acdb18</td>\n",
       "      <td>2636291</td>\n",
       "      <td>418260.353952</td>\n",
       "      <td>5.332489e+03</td>\n",
       "      <td>2.866930e+01</td>\n",
       "      <td>144.015450</td>\n",
       "      <td>1.597000e+03</td>\n",
       "      <td>1.000000e-02</td>\n",
       "      <td>0xfffffd2b4cbf69d99a7997bc3543191c79acdb18</td>\n",
       "      <td>2055331</td>\n",
       "      <td>525883.200147</td>\n",
       "      <td>3136.556590</td>\n",
       "      <td>13.696754</td>\n",
       "      <td>35.252536</td>\n",
       "      <td>380.000000</td>\n",
       "      <td>0.001000</td>\n",
       "    </tr>\n",
       "    <tr>\n",
       "      <th>7587229</th>\n",
       "      <td>0xfffffe16439027b253808b7a55c787b67c22a75d</td>\n",
       "      <td>15</td>\n",
       "      <td>8.386497</td>\n",
       "      <td>1.009981e+02</td>\n",
       "      <td>3.366604e+01</td>\n",
       "      <td>48.429568</td>\n",
       "      <td>8.922260e+01</td>\n",
       "      <td>3.629000e-01</td>\n",
       "      <td>0xfffffe16439027b253808b7a55c787b67c22a75d</td>\n",
       "      <td>0</td>\n",
       "      <td>0.000000</td>\n",
       "      <td>101.000000</td>\n",
       "      <td>50.500000</td>\n",
       "      <td>54.158249</td>\n",
       "      <td>88.795665</td>\n",
       "      <td>12.204335</td>\n",
       "    </tr>\n",
       "    <tr>\n",
       "      <th>7587230</th>\n",
       "      <td>0xffffffa5473301b0489d7e1d1e7786b4b79e2cc0</td>\n",
       "      <td>117025</td>\n",
       "      <td>40840.724921</td>\n",
       "      <td>1.328789e+00</td>\n",
       "      <td>1.476433e-01</td>\n",
       "      <td>0.211307</td>\n",
       "      <td>5.500000e-01</td>\n",
       "      <td>3.000000e-03</td>\n",
       "      <td>0xffffffa5473301b0489d7e1d1e7786b4b79e2cc0</td>\n",
       "      <td>110058</td>\n",
       "      <td>39841.898372</td>\n",
       "      <td>0.165020</td>\n",
       "      <td>0.023574</td>\n",
       "      <td>0.015793</td>\n",
       "      <td>0.050000</td>\n",
       "      <td>0.004469</td>\n",
       "    </tr>\n",
       "    <tr>\n",
       "      <th>7587231</th>\n",
       "      <td>0xfffffff1ac8dcf49f4afd3f90995120e568740f9</td>\n",
       "      <td>696510</td>\n",
       "      <td>189335.232954</td>\n",
       "      <td>4.959864e+02</td>\n",
       "      <td>3.815280e+01</td>\n",
       "      <td>90.528909</td>\n",
       "      <td>2.500000e+02</td>\n",
       "      <td>9.864391e-01</td>\n",
       "      <td>0xfffffff1ac8dcf49f4afd3f90995120e568740f9</td>\n",
       "      <td>527774</td>\n",
       "      <td>28389.016979</td>\n",
       "      <td>1524.310398</td>\n",
       "      <td>3.928635</td>\n",
       "      <td>13.851119</td>\n",
       "      <td>200.000000</td>\n",
       "      <td>0.001000</td>\n",
       "    </tr>\n",
       "    <tr>\n",
       "      <th>7587232</th>\n",
       "      <td>0xfffffff92dc97cc9fe9cdeb544319a2eff9ebcc6</td>\n",
       "      <td>3</td>\n",
       "      <td>2.121320</td>\n",
       "      <td>1.008919e+02</td>\n",
       "      <td>5.044595e+01</td>\n",
       "      <td>12.497425</td>\n",
       "      <td>5.928297e+01</td>\n",
       "      <td>4.160894e+01</td>\n",
       "      <td>0xfffffff92dc97cc9fe9cdeb544319a2eff9ebcc6</td>\n",
       "      <td>7</td>\n",
       "      <td>4.949747</td>\n",
       "      <td>101.000000</td>\n",
       "      <td>50.500000</td>\n",
       "      <td>46.319401</td>\n",
       "      <td>83.252763</td>\n",
       "      <td>17.747237</td>\n",
       "    </tr>\n",
       "  </tbody>\n",
       "</table>\n",
       "<p>7587233 rows × 16 columns</p>\n",
       "</div>"
      ],
      "text/plain": [
       "                                               from  from_block_ptp  \\\n",
       "0        0x0000000048246c5f37df029bef0cefd9ee36f301           35020   \n",
       "1        0x000000004fdd41501a42651743c55f7e41ec85e4          322138   \n",
       "2        0x00000000666bc8d3212838a58e92c18e6cfe9ef1               0   \n",
       "3        0x00000000ad4eb06bc550dc45ce28888c0626839a              80   \n",
       "4        0x00000000b9d54fb8ab1a28ebd2ccbfe3247e517f               0   \n",
       "...                                             ...             ...   \n",
       "7587228  0xfffffd2b4cbf69d99a7997bc3543191c79acdb18         2636291   \n",
       "7587229  0xfffffe16439027b253808b7a55c787b67c22a75d              15   \n",
       "7587230  0xffffffa5473301b0489d7e1d1e7786b4b79e2cc0          117025   \n",
       "7587231  0xfffffff1ac8dcf49f4afd3f90995120e568740f9          696510   \n",
       "7587232  0xfffffff92dc97cc9fe9cdeb544319a2eff9ebcc6               3   \n",
       "\n",
       "         from_block_std  from_value_sum  from_value_mean  from_value_std  \\\n",
       "0          16237.896054    1.906650e-01     4.766626e-02        0.055247   \n",
       "1         144046.283394    4.281103e-02     1.070276e-02        0.012553   \n",
       "2                   NaN    8.888889e-11     8.888889e-11             NaN   \n",
       "3             22.360860    7.324813e+01     1.331784e+00        1.810276   \n",
       "4                   NaN    2.669227e+00     2.669227e+00             NaN   \n",
       "...                 ...             ...              ...             ...   \n",
       "7587228   418260.353952    5.332489e+03     2.866930e+01      144.015450   \n",
       "7587229        8.386497    1.009981e+02     3.366604e+01       48.429568   \n",
       "7587230    40840.724921    1.328789e+00     1.476433e-01        0.211307   \n",
       "7587231   189335.232954    4.959864e+02     3.815280e+01       90.528909   \n",
       "7587232        2.121320    1.008919e+02     5.044595e+01       12.497425   \n",
       "\n",
       "         from_value_max  from_value_min  \\\n",
       "0          1.282759e-01    9.346600e-03   \n",
       "1          2.620300e-02    1.000000e-05   \n",
       "2          8.888889e-11    8.888889e-11   \n",
       "3          9.183630e+00    1.006096e-01   \n",
       "4          2.669227e+00    2.669227e+00   \n",
       "...                 ...             ...   \n",
       "7587228    1.597000e+03    1.000000e-02   \n",
       "7587229    8.922260e+01    3.629000e-01   \n",
       "7587230    5.500000e-01    3.000000e-03   \n",
       "7587231    2.500000e+02    9.864391e-01   \n",
       "7587232    5.928297e+01    4.160894e+01   \n",
       "\n",
       "                                                 to  to_block_ptp  \\\n",
       "0        0x0000000048246c5f37df029bef0cefd9ee36f301         93379   \n",
       "1        0x000000004fdd41501a42651743c55f7e41ec85e4             0   \n",
       "2        0x00000000666bc8d3212838a58e92c18e6cfe9ef1       1168154   \n",
       "3        0x00000000ad4eb06bc550dc45ce28888c0626839a             0   \n",
       "4        0x00000000b9d54fb8ab1a28ebd2ccbfe3247e517f        270001   \n",
       "...                                             ...           ...   \n",
       "7587228  0xfffffd2b4cbf69d99a7997bc3543191c79acdb18       2055331   \n",
       "7587229  0xfffffe16439027b253808b7a55c787b67c22a75d             0   \n",
       "7587230  0xffffffa5473301b0489d7e1d1e7786b4b79e2cc0        110058   \n",
       "7587231  0xfffffff1ac8dcf49f4afd3f90995120e568740f9        527774   \n",
       "7587232  0xfffffff92dc97cc9fe9cdeb544319a2eff9ebcc6             7   \n",
       "\n",
       "          to_block_std  to_value_sum  to_value_mean  to_value_std  \\\n",
       "0         38911.802283      0.079356       0.019839      0.008781   \n",
       "1                  NaN      0.054110       0.054110           NaN   \n",
       "2        826009.614870      0.070910       0.035455      0.050127   \n",
       "3                  NaN    103.500000     103.500000           NaN   \n",
       "4        145332.203372     43.790000      14.596667      6.829863   \n",
       "...                ...           ...            ...           ...   \n",
       "7587228  525883.200147   3136.556590      13.696754     35.252536   \n",
       "7587229       0.000000    101.000000      50.500000     54.158249   \n",
       "7587230   39841.898372      0.165020       0.023574      0.015793   \n",
       "7587231   28389.016979   1524.310398       3.928635     13.851119   \n",
       "7587232       4.949747    101.000000      50.500000     46.319401   \n",
       "\n",
       "         to_value_max  to_value_min  \n",
       "0            0.029139      0.010000  \n",
       "1            0.054110      0.054110  \n",
       "2            0.070900      0.000010  \n",
       "3          103.500000    103.500000  \n",
       "4           19.900000      6.890000  \n",
       "...               ...           ...  \n",
       "7587228    380.000000      0.001000  \n",
       "7587229     88.795665     12.204335  \n",
       "7587230      0.050000      0.004469  \n",
       "7587231    200.000000      0.001000  \n",
       "7587232     83.252763     17.747237  \n",
       "\n",
       "[7587233 rows x 16 columns]"
      ]
     },
     "execution_count": 25,
     "metadata": {},
     "output_type": "execute_result"
    }
   ],
   "source": [
    "trival_feature"
   ]
  },
  {
   "cell_type": "code",
   "execution_count": 26,
   "metadata": {
    "ExecuteTime": {
     "end_time": "2020-11-23T14:45:41.718265Z",
     "start_time": "2020-11-23T14:45:37.289267Z"
    }
   },
   "outputs": [],
   "source": [
    "trival_feature['address'] = trival_feature['from']\n",
    "trival_feature.drop(['from', 'to'], axis = 1, inplace=True)"
   ]
  },
  {
   "cell_type": "markdown",
   "metadata": {},
   "source": [
    "## 构建特征"
   ]
  },
  {
   "cell_type": "markdown",
   "metadata": {},
   "source": [
    "### 网络特征——from, to"
   ]
  },
  {
   "cell_type": "code",
   "execution_count": 27,
   "metadata": {
    "ExecuteTime": {
     "end_time": "2020-11-23T14:45:41.767266Z",
     "start_time": "2020-11-23T14:45:41.759266Z"
    }
   },
   "outputs": [],
   "source": [
    "def get_network_feature(train_data):\n",
    "    from_to_one_degree_feature = train_data.groupby(['from'])['to'].agg(['count', 'nunique']).add_prefix('from_to_').reset_index()\n",
    "    from_to_one_degree_feature['from_to_count_nunique_ratio'] = from_to_one_degree_feature['from_to_count'] / from_to_one_degree_feature['from_to_nunique']\n",
    "    from_to_one_degree_feature['from_to_count_nunique_equal'] = (from_to_one_degree_feature['from_to_count'] == from_to_one_degree_feature['from_to_nunique']).astype(int)\n",
    "    from_to_two_degree_feature = train_data.groupby(['from', 'to'])['value'].agg(['sum', 'mean', 'max', 'min']).groupby(['from']).agg(\n",
    "        ['sum', 'std', 'median', 'max', 'min']).add_prefix('from_to_')\n",
    "    from_to_two_degree_feature = pd.DataFrame(from_to_two_degree_feature.to_records(), index=None)\n",
    "    from_to_degree_feature =  from_to_two_degree_feature.merge(right=from_to_one_degree_feature, left_on='from', right_on='from', how='inner')\n",
    "                                                \n",
    "        #to,from 特征以相同方式提取\n",
    "    to_from_one_degree_feature = train_data.groupby(['to'])['from'].agg(['count', 'nunique']).add_prefix('to_from_').reset_index()\n",
    "    to_from_one_degree_feature['to_from_count_nunique_ratio'] = to_from_one_degree_feature['to_from_count'] / to_from_one_degree_feature['to_from_nunique']\n",
    "    to_from_one_degree_feature['to_from_count_nunique_equal'] = (to_from_one_degree_feature['to_from_count'] == to_from_one_degree_feature['to_from_nunique']).astype(int)\n",
    "    \n",
    "    to_from_two_degree_feature = train_data.groupby(['to', 'from'])['value'].agg(['sum', 'mean', 'max', 'min']).groupby(['to']).agg(\n",
    "    ['sum', 'std', 'median', 'max', 'min']).add_prefix('to_from_')\n",
    "    to_from_two_degree_feature = pd.DataFrame(to_from_two_degree_feature.to_records(), index=None)\n",
    "    to_from_degree_feature =  to_from_two_degree_feature.merge(right=to_from_one_degree_feature, left_on='to', right_on='to', how='inner')\n",
    "    return from_to_degree_feature, to_from_degree_feature"
   ]
  },
  {
   "cell_type": "code",
   "execution_count": 28,
   "metadata": {
    "ExecuteTime": {
     "end_time": "2020-11-23T14:47:20.980251Z",
     "start_time": "2020-11-23T14:45:41.805264Z"
    }
   },
   "outputs": [],
   "source": [
    "#base: 每个from 节点对应的 to 节点的（不同）个数 (one_degree)\n",
    "from_to_one_degree_feature = train_data.groupby(['from'])['to'].agg(['count', 'nunique']).add_prefix('from_to_').reset_index()\n",
    "from_to_one_degree_feature['from_to_count_nunique_ratio'] = from_to_one_degree_feature['from_to_count'] / from_to_one_degree_feature['from_to_nunique']\n",
    "from_to_one_degree_feature['from_to_count_nunique_equal'] = (from_to_one_degree_feature['from_to_count'] == from_to_one_degree_feature['from_to_nunique']).astype(int)\n",
    "# 还可做： count/ nunique, count == nunique?"
   ]
  },
  {
   "cell_type": "code",
   "execution_count": 29,
   "metadata": {
    "ExecuteTime": {
     "end_time": "2020-11-23T14:47:21.024250Z",
     "start_time": "2020-11-23T14:47:21.022250Z"
    }
   },
   "outputs": [],
   "source": [
    "#统计from 节点相连接的 to 节点的信息情况"
   ]
  },
  {
   "cell_type": "code",
   "execution_count": 30,
   "metadata": {
    "ExecuteTime": {
     "end_time": "2020-11-23T14:50:10.376947Z",
     "start_time": "2020-11-23T14:47:21.066249Z"
    }
   },
   "outputs": [],
   "source": [
    "from_to_two_degree_feature = train_data.groupby(['from', 'to'])['value'].agg(['sum', 'mean', 'max', 'min']).groupby(['from']).agg(\n",
    "    ['sum', 'std', 'median', 'max', 'min']).add_prefix('from_to_')\n",
    "from_to_two_degree_feature = pd.DataFrame(from_to_two_degree_feature.to_records(), index=None)"
   ]
  },
  {
   "cell_type": "code",
   "execution_count": 31,
   "metadata": {
    "ExecuteTime": {
     "end_time": "2020-11-23T14:50:27.990624Z",
     "start_time": "2020-11-23T14:50:12.642129Z"
    }
   },
   "outputs": [],
   "source": [
    "from_to_degree_feature =  from_to_two_degree_feature.merge(right=from_to_one_degree_feature, left_on='from', right_on='from', how='inner')"
   ]
  },
  {
   "cell_type": "code",
   "execution_count": null,
   "metadata": {},
   "outputs": [],
   "source": []
  },
  {
   "cell_type": "code",
   "execution_count": 32,
   "metadata": {
    "ExecuteTime": {
     "end_time": "2020-11-23T14:52:16.265827Z",
     "start_time": "2020-11-23T14:50:32.902147Z"
    }
   },
   "outputs": [],
   "source": [
    "#to,from 特征以相同方式提取\n",
    "to_from_one_degree_feature = train_data.groupby(['to'])['from'].agg(['count', 'nunique']).add_prefix('to_from_').reset_index()\n",
    "to_from_one_degree_feature['to_from_count_nunique_ratio'] = to_from_one_degree_feature['to_from_count'] / to_from_one_degree_feature['to_from_nunique']\n",
    "to_from_one_degree_feature['to_from_count_nunique_equal'] = (to_from_one_degree_feature['to_from_count'] == to_from_one_degree_feature['to_from_nunique']).astype(int)"
   ]
  },
  {
   "cell_type": "code",
   "execution_count": 33,
   "metadata": {
    "ExecuteTime": {
     "end_time": "2020-11-23T14:55:15.172753Z",
     "start_time": "2020-11-23T14:52:21.196597Z"
    }
   },
   "outputs": [],
   "source": [
    "to_from_two_degree_feature = train_data.groupby(['to', 'from'])['value'].agg(['sum', 'mean', 'max', 'min']).groupby(['to']).agg(\n",
    "    ['sum', 'std', 'median', 'max', 'min']).add_prefix('to_from_')\n",
    "to_from_two_degree_feature = pd.DataFrame(to_from_two_degree_feature.to_records(), index=None)"
   ]
  },
  {
   "cell_type": "code",
   "execution_count": 34,
   "metadata": {
    "ExecuteTime": {
     "end_time": "2020-11-23T14:55:39.488163Z",
     "start_time": "2020-11-23T14:55:22.642247Z"
    }
   },
   "outputs": [],
   "source": [
    "to_from_degree_feature =  to_from_two_degree_feature.merge(right=to_from_one_degree_feature, left_on='to', right_on='to', how='inner')"
   ]
  },
  {
   "cell_type": "markdown",
   "metadata": {},
   "source": [
    "### 特征拼接"
   ]
  },
  {
   "cell_type": "code",
   "execution_count": 35,
   "metadata": {
    "ExecuteTime": {
     "end_time": "2020-11-23T14:55:49.772625Z",
     "start_time": "2020-11-23T14:55:49.768625Z"
    }
   },
   "outputs": [],
   "source": [
    "def get_feature(train_data):\n",
    "    trival_feature = get_trival_feature(train_data)\n",
    "    from_to_degree_feature, to_from_degree_feature = get_network_feature(train_data)\n",
    "    feature = trival_feature.merge(right=from_to_degree_feature, left_on='address', right_on='from', how='left')\n",
    "    feature = feature.merge(right=to_from_degree_feature, left_on='address', right_on='to',how='left')\n",
    "    feature.drop(['from','to'], inplace=True, axis = 1)\n",
    "    return feature"
   ]
  },
  {
   "cell_type": "code",
   "execution_count": null,
   "metadata": {},
   "outputs": [],
   "source": []
  },
  {
   "cell_type": "code",
   "execution_count": 36,
   "metadata": {
    "ExecuteTime": {
     "end_time": "2020-11-23T14:56:16.934420Z",
     "start_time": "2020-11-23T14:55:59.996104Z"
    }
   },
   "outputs": [],
   "source": [
    "feature = trival_feature.merge(right=from_to_degree_feature, left_on='address', right_on='from', how='left')"
   ]
  },
  {
   "cell_type": "code",
   "execution_count": 37,
   "metadata": {
    "ExecuteTime": {
     "end_time": "2020-11-23T14:56:51.177463Z",
     "start_time": "2020-11-23T14:56:29.313220Z"
    }
   },
   "outputs": [],
   "source": [
    "feature = feature.merge(right=to_from_degree_feature, left_on='address', right_on='to',how='left')"
   ]
  },
  {
   "cell_type": "code",
   "execution_count": 38,
   "metadata": {
    "ExecuteTime": {
     "end_time": "2020-11-23T14:57:11.525487Z",
     "start_time": "2020-11-23T14:57:03.607911Z"
    }
   },
   "outputs": [],
   "source": [
    "feature.drop(['from','to'], inplace=True, axis = 1)"
   ]
  },
  {
   "cell_type": "code",
   "execution_count": 39,
   "metadata": {
    "ExecuteTime": {
     "end_time": "2020-11-23T14:57:23.291668Z",
     "start_time": "2020-11-23T14:57:23.284668Z"
    }
   },
   "outputs": [],
   "source": [
    "def deal_feature_name(x):\n",
    "    if x.count('from_to_') == 2:\n",
    "        return 'from_in_' + x[1:-1].replace('from_to_', '').replace(',', '').replace('\\'', '').replace(' ', '_')\n",
    "    if x.count('to_from_') == 2:\n",
    "        return 'to_out_' + x[1:-1].replace('to_from_', '').replace(',', '').replace('\\'', '').replace(' ', '_')\n",
    "    if x.count('from_to_') == 1:\n",
    "        return x.replace('from_to', 'out')\n",
    "    if x.count('to_from_') == 1:\n",
    "        return x.replace('to_from', 'in')\n",
    "    if (x.count('block') == 1 or x.count('value') == 1):\n",
    "        return x.replace('from_block', 'out_block').replace('from_value', 'out_value').replace('to_block', 'in_block').replace('to_value', 'in_value')\n",
    "    return x"
   ]
  },
  {
   "cell_type": "code",
   "execution_count": 40,
   "metadata": {
    "ExecuteTime": {
     "end_time": "2020-11-23T15:21:59.109139Z",
     "start_time": "2020-11-23T14:57:34.983894Z"
    }
   },
   "outputs": [],
   "source": [
    "feature = get_feature(train_data)\n",
    "#处理特征名称\n",
    "feature.columns = list(map(deal_feature_name,feature.columns))"
   ]
  },
  {
   "cell_type": "code",
   "execution_count": 233,
   "metadata": {
    "ExecuteTime": {
     "end_time": "2020-11-25T07:23:26.855944Z",
     "start_time": "2020-11-25T07:23:26.850944Z"
    }
   },
   "outputs": [
    {
     "data": {
      "text/plain": [
       "(7587233, 63)"
      ]
     },
     "execution_count": 233,
     "metadata": {},
     "output_type": "execute_result"
    }
   ],
   "source": [
    "feature.shape"
   ]
  },
  {
   "cell_type": "markdown",
   "metadata": {},
   "source": [
    "### 序列特征"
   ]
  },
  {
   "cell_type": "code",
   "execution_count": 214,
   "metadata": {
    "ExecuteTime": {
     "end_time": "2020-11-24T12:24:24.731627Z",
     "start_time": "2020-11-24T12:24:19.429933Z"
    }
   },
   "outputs": [],
   "source": [
    "#将数据集反过来重复一次，value取负数。以便于构建序列特征\n",
    "reverse_train_data = train_data.copy(deep=True)\n",
    "reverse_train_data.columns = ['blockNumber','to','from','value']\n",
    "reverse_train_data['value']*= -1\n",
    "double_dup_data = pd.concat([train_data, reverse_train_data],axis = 0)"
   ]
  },
  {
   "cell_type": "code",
   "execution_count": 224,
   "metadata": {
    "ExecuteTime": {
     "end_time": "2020-11-24T12:29:37.432633Z",
     "start_time": "2020-11-24T12:29:20.122363Z"
    }
   },
   "outputs": [],
   "source": [
    "#按时间排序\n",
    "double_dup_data.sort_index(inplace=True)"
   ]
  },
  {
   "cell_type": "code",
   "execution_count": 225,
   "metadata": {
    "ExecuteTime": {
     "end_time": "2020-11-24T15:24:33.622605Z",
     "start_time": "2020-11-24T12:30:27.186661Z"
    }
   },
   "outputs": [],
   "source": [
    "#sample_data = train_data.sample(frac=0.001)\n",
    "seq_len = 10\n",
    "seq_diff0_to_val_feature = train_data.groupby(['to'])['value'].apply(lambda x: pd.Series(list(x[-seq_len:]) + (seq_len - len(x[-seq_len:])) * [np.nan])).unstack().add_prefix('diff0_to_val_').reset_index()\n",
    "seq_diff0_from_val_feature = train_data.groupby(['from'])['value'].apply(lambda x: pd.Series(list(x[-seq_len:]) + (seq_len - len(x[-seq_len:])) * [np.nan])).unstack().add_prefix('diff0_from_val_').reset_index()\n",
    "seq_diff0_to_blocknum_feature = train_data.groupby(['to'])['blockNumber'].apply(lambda x: pd.Series(list(x[-seq_len:]) + (seq_len - len(x[-seq_len:])) * [np.nan])).unstack().add_prefix('diff0_to_blocknum_').reset_index()\n",
    "seq_diff0_from_blocknum_feature = train_data.groupby(['from'])['blockNumber'].apply(lambda x: pd.Series(list(x[-seq_len:]) + (seq_len - len(x[-seq_len:])) * [np.nan])).unstack().add_prefix('diff0_from_blocknum_').reset_index()\n"
   ]
  },
  {
   "cell_type": "code",
   "execution_count": 226,
   "metadata": {
    "ExecuteTime": {
     "end_time": "2020-11-24T17:00:23.999690Z",
     "start_time": "2020-11-24T15:24:51.815244Z"
    }
   },
   "outputs": [],
   "source": [
    "seq_diff0_val_feature = double_dup_data.groupby(['to'])['value'].apply(lambda x: pd.Series(list(x[-seq_len:]) + (seq_len - len(x[-seq_len:])) * [np.nan])).unstack().add_prefix('diff0_val_').reset_index()\n",
    "seq_diff0_blocknum_feature = double_dup_data.groupby(['to'])['blockNumber'].apply(lambda x: pd.Series(list(x[-seq_len:]) + (seq_len - len(x[-seq_len:])) * [np.nan])).unstack().add_prefix('diff0_blocknum_').reset_index()\n"
   ]
  },
  {
   "cell_type": "code",
   "execution_count": 231,
   "metadata": {
    "ExecuteTime": {
     "end_time": "2020-11-25T07:08:21.489745Z",
     "start_time": "2020-11-25T07:06:11.026580Z"
    }
   },
   "outputs": [],
   "source": [
    "seq_diff0_to_val_feature.sort_values(by='to', inplace=True)\n",
    "seq_diff0_from_val_feature.sort_values(by='from', inplace=True)\n",
    "seq_diff0_to_blocknum_feature.sort_values(by='to', inplace=True)\n",
    "seq_diff0_from_blocknum_feature.sort_values(by='from', inplace=True)\n",
    "seq_diff0_val_feature.sort_values(by='to', inplace=True)\n",
    "seq_diff0_blocknum_feature.sort_values(by='to', inplace=True)\n",
    "\n",
    "seq_diff0_to_feature = pd.concat([seq_diff0_to_val_feature,\n",
    "                                  seq_diff0_to_blocknum_feature.drop(['to'], axis = 1),\n",
    "                                  seq_diff0_val_feature.drop(['to'], axis = 1),\n",
    "                                  seq_diff0_blocknum_feature.drop(['to'], axis = 1)], axis = 1)\n",
    "\n",
    "seq_diff0_from_feature = pd.concat([seq_diff0_from_val_feature, seq_diff0_from_blocknum_feature.drop(['from'], axis = 1)], axis = 1)"
   ]
  },
  {
   "cell_type": "code",
   "execution_count": 237,
   "metadata": {
    "ExecuteTime": {
     "end_time": "2020-11-25T07:24:59.698760Z",
     "start_time": "2020-11-25T07:24:35.747055Z"
    }
   },
   "outputs": [],
   "source": [
    "seq_diff0_feature = pd.merge(left=seq_diff0_to_feature, right=seq_diff0_from_feature, left_on='to', right_on='from', how='inner')"
   ]
  },
  {
   "cell_type": "code",
   "execution_count": 243,
   "metadata": {
    "ExecuteTime": {
     "end_time": "2020-11-25T07:28:47.407369Z",
     "start_time": "2020-11-25T07:28:40.258060Z"
    }
   },
   "outputs": [],
   "source": [
    "seq_diff0_feature.drop(['from'],axis = 1, inplace=True)"
   ]
  },
  {
   "cell_type": "code",
   "execution_count": 253,
   "metadata": {
    "ExecuteTime": {
     "end_time": "2020-11-25T08:04:33.327801Z",
     "start_time": "2020-11-25T08:04:33.323801Z"
    }
   },
   "outputs": [],
   "source": [
    "#bug-fixed code\n",
    "#seq_diff0_feature.columns = list(map(lambda x: x.replace('diff0_from_val', 'diff0_from_val_') if ('diff0_from_val' in x)and ('diff0_from_val_' not in x) else x, seq_diff0_feature.columns))"
   ]
  },
  {
   "cell_type": "code",
   "execution_count": 255,
   "metadata": {
    "ExecuteTime": {
     "end_time": "2020-11-25T08:06:32.028690Z",
     "start_time": "2020-11-25T08:06:13.215725Z"
    }
   },
   "outputs": [],
   "source": [
    "#seq_feature = seq_diff0_feature.copy(deep=True)\n",
    "#这里控制需要循环得到的序列特征层数（平稳化阶数）,一般最多到2阶\n",
    "arima_D = 2\n",
    "seq_fea_list = [seq_diff0_feature.copy(deep=True)]\n",
    "for k in range(1, arima_D + 1):\n",
    "    seq_integrate_fea = pd.DataFrame()\n",
    "    seq_integrate_fea['to'] = seq_diff0_feature['to']\n",
    "    for i in range(k, seq_len):\n",
    "        seq_integrate_fea['diff' + str(k) + '_to_val_' + str(i)] = seq_fea_list[k - 1]['diff' + str(k - 1) + '_to_val_' + str(i)] - seq_fea_list[k - 1]['diff' + str(k - 1) + '_to_val_' + str(i - 1)]\n",
    "        seq_integrate_fea['diff' + str(k) + '_from_val_' + str(i)] = seq_fea_list[k - 1]['diff' + str(k - 1) + '_from_val_' + str(i)] - seq_fea_list[k - 1]['diff' + str(k - 1) + '_from_val_' + str(i - 1)]\n",
    "        seq_integrate_fea['diff' + str(k) + '_to_blocknum_' + str(i)] = seq_fea_list[k - 1]['diff' + str(k - 1) + '_to_blocknum_' + str(i)] - seq_fea_list[k - 1]['diff' + str(k - 1) + '_to_blocknum_' + str(i - 1)]\n",
    "        seq_integrate_fea['diff' + str(k) + '_from_blocknum_' + str(i)] = seq_fea_list[k - 1]['diff' + str(k - 1) + '_from_blocknum_' + str(i)] - seq_fea_list[k - 1]['diff' + str(k - 1) + '_from_blocknum_' + str(i - 1)]\n",
    "        seq_integrate_fea['diff' + str(k) + '_val_' + str(i)] = seq_fea_list[k - 1]['diff' + str(k - 1) + '_val_' + str(i)] - seq_fea_list[k - 1]['diff' + str(k - 1) + '_val_' + str(i - 1)]\n",
    "        seq_integrate_fea['diff' + str(k) + '_blocknum_' + str(i)] = seq_fea_list[k - 1]['diff' + str(k - 1) + '_blocknum_' + str(i)] - seq_fea_list[k - 1]['diff' + str(k - 1) + '_blocknum_' + str(i - 1)]\n",
    "    seq_fea_list.append(seq_integrate_fea.copy(deep=True))"
   ]
  },
  {
   "cell_type": "code",
   "execution_count": 256,
   "metadata": {
    "ExecuteTime": {
     "end_time": "2020-11-25T08:07:21.110031Z",
     "start_time": "2020-11-25T08:06:59.464825Z"
    }
   },
   "outputs": [],
   "source": [
    "seq_feature = pd.concat(seq_fea_list, axis = 1)\n",
    "seq_feature['address'] = seq_diff0_feature['to']\n",
    "seq_feature.drop(['to'], axis = 1, inplace=True)"
   ]
  },
  {
   "cell_type": "code",
   "execution_count": null,
   "metadata": {
    "ExecuteTime": {
     "start_time": "2020-11-25T08:21:43.229Z"
    }
   },
   "outputs": [],
   "source": []
  },
  {
   "cell_type": "markdown",
   "metadata": {},
   "source": [
    "## 单独测试序列特征"
   ]
  },
  {
   "cell_type": "code",
   "execution_count": 281,
   "metadata": {
    "ExecuteTime": {
     "end_time": "2020-11-25T08:31:09.769697Z",
     "start_time": "2020-11-25T08:30:37.050787Z"
    }
   },
   "outputs": [],
   "source": [
    "seq_X_train, seq_y_train = feature_matrix_to_train_matrix(seq_feature, train_label)"
   ]
  },
  {
   "cell_type": "code",
   "execution_count": 282,
   "metadata": {
    "ExecuteTime": {
     "end_time": "2020-11-25T08:31:39.405940Z",
     "start_time": "2020-11-25T08:31:39.398940Z"
    }
   },
   "outputs": [],
   "source": [
    "seq_dtrain = lgb.Dataset(seq_X_train, label = seq_y_train)"
   ]
  },
  {
   "cell_type": "code",
   "execution_count": 287,
   "metadata": {
    "ExecuteTime": {
     "end_time": "2020-11-25T08:38:37.103005Z",
     "start_time": "2020-11-25T08:38:17.265854Z"
    }
   },
   "outputs": [
    {
     "name": "stdout",
     "output_type": "stream",
     "text": [
      "[10]\tcv_agg's res: 0.9277 + 0.0645453\n",
      "[20]\tcv_agg's res: 0.93172 + 0.0489559\n",
      "[30]\tcv_agg's res: 0.931981 + 0.0449017\n",
      "[40]\tcv_agg's res: 0.935988 + 0.0403676\n",
      "[50]\tcv_agg's res: 0.935307 + 0.0403963\n",
      "[60]\tcv_agg's res: 0.936454 + 0.0395567\n",
      "[70]\tcv_agg's res: 0.936976 + 0.0380832\n",
      "[80]\tcv_agg's res: 0.936694 + 0.0395093\n",
      "[90]\tcv_agg's res: 0.936075 + 0.0377049\n",
      "[100]\tcv_agg's res: 0.936034 + 0.0377248\n",
      "[110]\tcv_agg's res: 0.936796 + 0.0373867\n",
      "[120]\tcv_agg's res: 0.937436 + 0.0361427\n",
      "[130]\tcv_agg's res: 0.93705 + 0.0363328\n",
      "[140]\tcv_agg's res: 0.937769 + 0.0356011\n",
      "[150]\tcv_agg's res: 0.938084 + 0.0350811\n",
      "[160]\tcv_agg's res: 0.938052 + 0.0350411\n",
      "[170]\tcv_agg's res: 0.937761 + 0.0356065\n",
      "[180]\tcv_agg's res: 0.938077 + 0.0350647\n",
      "[190]\tcv_agg's res: 0.938559 + 0.035277\n",
      "[200]\tcv_agg's res: 0.938061 + 0.0350523\n",
      "[210]\tcv_agg's res: 0.938037 + 0.0350215\n",
      "[220]\tcv_agg's res: 0.938001 + 0.0349911\n",
      "[230]\tcv_agg's res: 0.938454 + 0.0348078\n",
      "[240]\tcv_agg's res: 0.938447 + 0.0347899\n",
      "[250]\tcv_agg's res: 0.938448 + 0.0347954\n",
      "[260]\tcv_agg's res: 0.938113 + 0.0357777\n",
      "[270]\tcv_agg's res: 0.938475 + 0.0352025\n",
      "[280]\tcv_agg's res: 0.938928 + 0.035014\n",
      "[290]\tcv_agg's res: 0.938441 + 0.0351767\n",
      "[300]\tcv_agg's res: 0.938456 + 0.0348078\n",
      "[310]\tcv_agg's res: 0.938442 + 0.0347921\n",
      "[320]\tcv_agg's res: 0.937974 + 0.0346246\n",
      "[330]\tcv_agg's res: 0.937947 + 0.0345982\n",
      "[340]\tcv_agg's res: 0.937958 + 0.0346057\n",
      "[350]\tcv_agg's res: 0.937952 + 0.034598\n",
      "[360]\tcv_agg's res: 0.937964 + 0.0346108\n",
      "[370]\tcv_agg's res: 0.937966 + 0.034608\n",
      "[380]\tcv_agg's res: 0.937619 + 0.0351985\n",
      "[390]\tcv_agg's res: 0.937619 + 0.0352002\n",
      "[400]\tcv_agg's res: 0.937966 + 0.0346079\n",
      "[410]\tcv_agg's res: 0.937968 + 0.0346095\n",
      "[420]\tcv_agg's res: 0.937947 + 0.0345941\n",
      "[430]\tcv_agg's res: 0.937949 + 0.0345958\n",
      "[440]\tcv_agg's res: 0.937955 + 0.0345999\n",
      "[450]\tcv_agg's res: 0.937933 + 0.0345828\n",
      "[460]\tcv_agg's res: 0.937941 + 0.0345914\n",
      "[470]\tcv_agg's res: 0.93793 + 0.0345794\n",
      "[480]\tcv_agg's res: 0.937921 + 0.0345665\n",
      "[490]\tcv_agg's res: 0.937913 + 0.0345602\n",
      "[500]\tcv_agg's res: 0.937914 + 0.0345606\n",
      "[510]\tcv_agg's res: 0.937921 + 0.0345647\n",
      "[520]\tcv_agg's res: 0.937469 + 0.0344544\n",
      "[530]\tcv_agg's res: 0.937919 + 0.0345625\n",
      "[540]\tcv_agg's res: 0.937916 + 0.0345626\n",
      "[550]\tcv_agg's res: 0.937465 + 0.03445\n",
      "[560]\tcv_agg's res: 0.937466 + 0.0344508\n",
      "[570]\tcv_agg's res: 0.93748 + 0.0344611\n",
      "[580]\tcv_agg's res: 0.937476 + 0.0344557\n",
      "[590]\tcv_agg's res: 0.93748 + 0.0344594\n",
      "[600]\tcv_agg's res: 0.937477 + 0.0344594\n",
      "[610]\tcv_agg's res: 0.937476 + 0.0344596\n",
      "[620]\tcv_agg's res: 0.937482 + 0.0344633\n",
      "[630]\tcv_agg's res: 0.937018 + 0.0346258\n",
      "[640]\tcv_agg's res: 0.93702 + 0.0346268\n",
      "[650]\tcv_agg's res: 0.937018 + 0.0346281\n",
      "[660]\tcv_agg's res: 0.937012 + 0.0346212\n",
      "[670]\tcv_agg's res: 0.937006 + 0.0346159\n",
      "[680]\tcv_agg's res: 0.937007 + 0.034615\n",
      "[690]\tcv_agg's res: 0.93701 + 0.0346211\n",
      "[700]\tcv_agg's res: 0.936996 + 0.0346082\n",
      "[710]\tcv_agg's res: 0.937007 + 0.0346194\n",
      "[720]\tcv_agg's res: 0.937004 + 0.0346178\n",
      "[730]\tcv_agg's res: 0.937006 + 0.0346198\n",
      "[740]\tcv_agg's res: 0.936999 + 0.0346126\n",
      "[750]\tcv_agg's res: 0.93701 + 0.0346223\n",
      "[760]\tcv_agg's res: 0.936999 + 0.0346139\n",
      "[770]\tcv_agg's res: 0.936993 + 0.0346068\n",
      "[780]\tcv_agg's res: 0.936992 + 0.0346068\n",
      "[790]\tcv_agg's res: 0.937002 + 0.0346158\n",
      "[800]\tcv_agg's res: 0.937007 + 0.0346194\n"
     ]
    }
   ],
   "source": [
    "cv_res = lgb.cv(lgb_params, seq_dtrain, num_boost_round=800,feval=[lgb_evalMetric, lgb_pre_evalMetric,lgb_recall_evalMetric], verbose_eval = 10, nfold=3,metrics=('lgb_evalMetric'),\n",
    "       early_stopping_rounds= 800)"
   ]
  },
  {
   "cell_type": "code",
   "execution_count": 262,
   "metadata": {
    "ExecuteTime": {
     "end_time": "2020-11-25T08:14:16.043508Z",
     "start_time": "2020-11-25T08:14:16.038508Z"
    }
   },
   "outputs": [
    {
     "data": {
      "text/plain": [
       "0.9518251213175244"
      ]
     },
     "execution_count": 262,
     "metadata": {},
     "output_type": "execute_result"
    }
   ],
   "source": [
    "max(cv_res['res-mean'])"
   ]
  },
  {
   "cell_type": "code",
   "execution_count": null,
   "metadata": {},
   "outputs": [],
   "source": []
  },
  {
   "cell_type": "markdown",
   "metadata": {},
   "source": [
    "## 按时间做OOT切割"
   ]
  },
  {
   "cell_type": "code",
   "execution_count": 297,
   "metadata": {
    "ExecuteTime": {
     "end_time": "2020-11-25T08:47:20.547690Z",
     "start_time": "2020-11-25T08:46:39.196930Z"
    }
   },
   "outputs": [],
   "source": [
    "X_train, y_train = feature_matrix_to_train_matrix(feature, train_label)"
   ]
  },
  {
   "cell_type": "code",
   "execution_count": 298,
   "metadata": {
    "ExecuteTime": {
     "end_time": "2020-11-25T08:47:49.828156Z",
     "start_time": "2020-11-25T08:47:49.820156Z"
    }
   },
   "outputs": [],
   "source": [
    "X_train.sort_index(inplace=True)\n",
    "y_train.sort_index(inplace=True)"
   ]
  },
  {
   "cell_type": "code",
   "execution_count": 299,
   "metadata": {
    "ExecuteTime": {
     "end_time": "2020-11-25T08:48:20.932715Z",
     "start_time": "2020-11-25T08:48:20.928714Z"
    }
   },
   "outputs": [],
   "source": [
    "split_frac = 1 / 3\n",
    "split_point = int((1 - split_frac) * len(X_train))\n",
    "oot_train = X_train[0:split_point]\n",
    "oot_train_y = y_train[0:split_point]\n",
    "oot_test = X_train[split_point:]\n",
    "oot_test_y = y_train[split_point:]"
   ]
  },
  {
   "cell_type": "code",
   "execution_count": 300,
   "metadata": {
    "ExecuteTime": {
     "end_time": "2020-11-25T08:48:50.627888Z",
     "start_time": "2020-11-25T08:48:50.600888Z"
    }
   },
   "outputs": [
    {
     "data": {
      "text/html": [
       "<div>\n",
       "<style scoped>\n",
       "    .dataframe tbody tr th:only-of-type {\n",
       "        vertical-align: middle;\n",
       "    }\n",
       "\n",
       "    .dataframe tbody tr th {\n",
       "        vertical-align: top;\n",
       "    }\n",
       "\n",
       "    .dataframe thead th {\n",
       "        text-align: right;\n",
       "    }\n",
       "</style>\n",
       "<table border=\"1\" class=\"dataframe\">\n",
       "  <thead>\n",
       "    <tr style=\"text-align: right;\">\n",
       "      <th></th>\n",
       "      <th>out_block_ptp</th>\n",
       "      <th>out_block_std</th>\n",
       "      <th>out_value_sum</th>\n",
       "      <th>out_value_mean</th>\n",
       "      <th>out_value_std</th>\n",
       "      <th>out_value_max</th>\n",
       "      <th>out_value_min</th>\n",
       "      <th>in_block_ptp</th>\n",
       "      <th>in_block_std</th>\n",
       "      <th>in_value_sum</th>\n",
       "      <th>...</th>\n",
       "      <th>to_out_max_min</th>\n",
       "      <th>to_out_min_sum</th>\n",
       "      <th>to_out_min_std</th>\n",
       "      <th>to_out_min_median</th>\n",
       "      <th>to_out_min_max</th>\n",
       "      <th>to_out_min_min</th>\n",
       "      <th>in_count</th>\n",
       "      <th>in_nunique</th>\n",
       "      <th>in_count_nunique_ratio</th>\n",
       "      <th>in_count_nunique_equal</th>\n",
       "    </tr>\n",
       "  </thead>\n",
       "  <tbody>\n",
       "    <tr>\n",
       "      <th>4994426</th>\n",
       "      <td>1</td>\n",
       "      <td>0.707107</td>\n",
       "      <td>100.297871</td>\n",
       "      <td>50.148935</td>\n",
       "      <td>43.022489</td>\n",
       "      <td>80.570429</td>\n",
       "      <td>19.727442</td>\n",
       "      <td>4</td>\n",
       "      <td>2.828427</td>\n",
       "      <td>101.0</td>\n",
       "      <td>...</td>\n",
       "      <td>9.548549</td>\n",
       "      <td>101.0</td>\n",
       "      <td>57.914098</td>\n",
       "      <td>50.500000</td>\n",
       "      <td>91.451451</td>\n",
       "      <td>9.548549</td>\n",
       "      <td>2</td>\n",
       "      <td>2</td>\n",
       "      <td>1.0</td>\n",
       "      <td>1</td>\n",
       "    </tr>\n",
       "    <tr>\n",
       "      <th>4999520</th>\n",
       "      <td>19</td>\n",
       "      <td>9.712535</td>\n",
       "      <td>48.912640</td>\n",
       "      <td>16.304213</td>\n",
       "      <td>27.436127</td>\n",
       "      <td>47.983890</td>\n",
       "      <td>0.265380</td>\n",
       "      <td>1</td>\n",
       "      <td>0.707107</td>\n",
       "      <td>101.0</td>\n",
       "      <td>...</td>\n",
       "      <td>14.259854</td>\n",
       "      <td>101.0</td>\n",
       "      <td>51.251306</td>\n",
       "      <td>50.500000</td>\n",
       "      <td>86.740146</td>\n",
       "      <td>14.259854</td>\n",
       "      <td>2</td>\n",
       "      <td>2</td>\n",
       "      <td>1.0</td>\n",
       "      <td>1</td>\n",
       "    </tr>\n",
       "    <tr>\n",
       "      <th>5000117</th>\n",
       "      <td>635530</td>\n",
       "      <td>341024.212165</td>\n",
       "      <td>4.430000</td>\n",
       "      <td>1.107500</td>\n",
       "      <td>1.875658</td>\n",
       "      <td>3.900000</td>\n",
       "      <td>0.010000</td>\n",
       "      <td>0</td>\n",
       "      <td>NaN</td>\n",
       "      <td>0.1</td>\n",
       "      <td>...</td>\n",
       "      <td>0.100000</td>\n",
       "      <td>0.1</td>\n",
       "      <td>NaN</td>\n",
       "      <td>0.100000</td>\n",
       "      <td>0.100000</td>\n",
       "      <td>0.100000</td>\n",
       "      <td>1</td>\n",
       "      <td>1</td>\n",
       "      <td>1.0</td>\n",
       "      <td>1</td>\n",
       "    </tr>\n",
       "    <tr>\n",
       "      <th>5000593</th>\n",
       "      <td>820899</td>\n",
       "      <td>299997.970203</td>\n",
       "      <td>24.473200</td>\n",
       "      <td>3.496171</td>\n",
       "      <td>3.303878</td>\n",
       "      <td>10.000000</td>\n",
       "      <td>0.001000</td>\n",
       "      <td>0</td>\n",
       "      <td>NaN</td>\n",
       "      <td>10.0</td>\n",
       "      <td>...</td>\n",
       "      <td>10.000000</td>\n",
       "      <td>10.0</td>\n",
       "      <td>NaN</td>\n",
       "      <td>10.000000</td>\n",
       "      <td>10.000000</td>\n",
       "      <td>10.000000</td>\n",
       "      <td>1</td>\n",
       "      <td>1</td>\n",
       "      <td>1.0</td>\n",
       "      <td>1</td>\n",
       "    </tr>\n",
       "    <tr>\n",
       "      <th>5002056</th>\n",
       "      <td>5</td>\n",
       "      <td>2.886751</td>\n",
       "      <td>100.998740</td>\n",
       "      <td>33.666247</td>\n",
       "      <td>38.631396</td>\n",
       "      <td>76.710894</td>\n",
       "      <td>2.007184</td>\n",
       "      <td>1</td>\n",
       "      <td>0.707107</td>\n",
       "      <td>101.0</td>\n",
       "      <td>...</td>\n",
       "      <td>26.445508</td>\n",
       "      <td>101.0</td>\n",
       "      <td>34.018188</td>\n",
       "      <td>50.500000</td>\n",
       "      <td>74.554492</td>\n",
       "      <td>26.445508</td>\n",
       "      <td>2</td>\n",
       "      <td>2</td>\n",
       "      <td>1.0</td>\n",
       "      <td>1</td>\n",
       "    </tr>\n",
       "    <tr>\n",
       "      <th>...</th>\n",
       "      <td>...</td>\n",
       "      <td>...</td>\n",
       "      <td>...</td>\n",
       "      <td>...</td>\n",
       "      <td>...</td>\n",
       "      <td>...</td>\n",
       "      <td>...</td>\n",
       "      <td>...</td>\n",
       "      <td>...</td>\n",
       "      <td>...</td>\n",
       "      <td>...</td>\n",
       "      <td>...</td>\n",
       "      <td>...</td>\n",
       "      <td>...</td>\n",
       "      <td>...</td>\n",
       "      <td>...</td>\n",
       "      <td>...</td>\n",
       "      <td>...</td>\n",
       "      <td>...</td>\n",
       "      <td>...</td>\n",
       "      <td>...</td>\n",
       "    </tr>\n",
       "    <tr>\n",
       "      <th>7578545</th>\n",
       "      <td>0</td>\n",
       "      <td>0.000000</td>\n",
       "      <td>100.581220</td>\n",
       "      <td>50.290610</td>\n",
       "      <td>37.380673</td>\n",
       "      <td>76.722737</td>\n",
       "      <td>23.858483</td>\n",
       "      <td>0</td>\n",
       "      <td>0.000000</td>\n",
       "      <td>101.0</td>\n",
       "      <td>...</td>\n",
       "      <td>32.934178</td>\n",
       "      <td>101.0</td>\n",
       "      <td>24.841824</td>\n",
       "      <td>50.500000</td>\n",
       "      <td>68.065822</td>\n",
       "      <td>32.934178</td>\n",
       "      <td>2</td>\n",
       "      <td>2</td>\n",
       "      <td>1.0</td>\n",
       "      <td>1</td>\n",
       "    </tr>\n",
       "    <tr>\n",
       "      <th>7579990</th>\n",
       "      <td>0</td>\n",
       "      <td>0.000000</td>\n",
       "      <td>100.798740</td>\n",
       "      <td>50.399370</td>\n",
       "      <td>35.257055</td>\n",
       "      <td>75.329873</td>\n",
       "      <td>25.468867</td>\n",
       "      <td>1</td>\n",
       "      <td>0.707107</td>\n",
       "      <td>101.0</td>\n",
       "      <td>...</td>\n",
       "      <td>40.028447</td>\n",
       "      <td>101.0</td>\n",
       "      <td>14.809012</td>\n",
       "      <td>50.500000</td>\n",
       "      <td>60.971553</td>\n",
       "      <td>40.028447</td>\n",
       "      <td>2</td>\n",
       "      <td>2</td>\n",
       "      <td>1.0</td>\n",
       "      <td>1</td>\n",
       "    </tr>\n",
       "    <tr>\n",
       "      <th>7582280</th>\n",
       "      <td>572466</td>\n",
       "      <td>229861.258283</td>\n",
       "      <td>28.900000</td>\n",
       "      <td>5.780000</td>\n",
       "      <td>6.883095</td>\n",
       "      <td>17.500000</td>\n",
       "      <td>0.100000</td>\n",
       "      <td>495590</td>\n",
       "      <td>199821.744521</td>\n",
       "      <td>14.3</td>\n",
       "      <td>...</td>\n",
       "      <td>0.500000</td>\n",
       "      <td>11.3</td>\n",
       "      <td>4.656447</td>\n",
       "      <td>0.650000</td>\n",
       "      <td>9.800000</td>\n",
       "      <td>0.200000</td>\n",
       "      <td>6</td>\n",
       "      <td>4</td>\n",
       "      <td>1.5</td>\n",
       "      <td>0</td>\n",
       "    </tr>\n",
       "    <tr>\n",
       "      <th>7586044</th>\n",
       "      <td>6</td>\n",
       "      <td>4.242641</td>\n",
       "      <td>199.816237</td>\n",
       "      <td>99.908119</td>\n",
       "      <td>75.650130</td>\n",
       "      <td>153.400838</td>\n",
       "      <td>46.415399</td>\n",
       "      <td>9</td>\n",
       "      <td>4.932883</td>\n",
       "      <td>201.0</td>\n",
       "      <td>...</td>\n",
       "      <td>13.504406</td>\n",
       "      <td>201.0</td>\n",
       "      <td>73.121337</td>\n",
       "      <td>37.175755</td>\n",
       "      <td>150.319839</td>\n",
       "      <td>13.504406</td>\n",
       "      <td>3</td>\n",
       "      <td>3</td>\n",
       "      <td>1.0</td>\n",
       "      <td>1</td>\n",
       "    </tr>\n",
       "    <tr>\n",
       "      <th>7587156</th>\n",
       "      <td>4</td>\n",
       "      <td>2.828427</td>\n",
       "      <td>50.223230</td>\n",
       "      <td>25.111615</td>\n",
       "      <td>27.218959</td>\n",
       "      <td>44.358325</td>\n",
       "      <td>5.864905</td>\n",
       "      <td>11</td>\n",
       "      <td>7.778175</td>\n",
       "      <td>51.0</td>\n",
       "      <td>...</td>\n",
       "      <td>25.002419</td>\n",
       "      <td>51.0</td>\n",
       "      <td>0.703685</td>\n",
       "      <td>25.500000</td>\n",
       "      <td>25.997581</td>\n",
       "      <td>25.002419</td>\n",
       "      <td>2</td>\n",
       "      <td>2</td>\n",
       "      <td>1.0</td>\n",
       "      <td>1</td>\n",
       "    </tr>\n",
       "  </tbody>\n",
       "</table>\n",
       "<p>1598 rows × 62 columns</p>\n",
       "</div>"
      ],
      "text/plain": [
       "         out_block_ptp  out_block_std  out_value_sum  out_value_mean  \\\n",
       "4994426              1       0.707107     100.297871       50.148935   \n",
       "4999520             19       9.712535      48.912640       16.304213   \n",
       "5000117         635530  341024.212165       4.430000        1.107500   \n",
       "5000593         820899  299997.970203      24.473200        3.496171   \n",
       "5002056              5       2.886751     100.998740       33.666247   \n",
       "...                ...            ...            ...             ...   \n",
       "7578545              0       0.000000     100.581220       50.290610   \n",
       "7579990              0       0.000000     100.798740       50.399370   \n",
       "7582280         572466  229861.258283      28.900000        5.780000   \n",
       "7586044              6       4.242641     199.816237       99.908119   \n",
       "7587156              4       2.828427      50.223230       25.111615   \n",
       "\n",
       "         out_value_std  out_value_max  out_value_min  in_block_ptp  \\\n",
       "4994426      43.022489      80.570429      19.727442             4   \n",
       "4999520      27.436127      47.983890       0.265380             1   \n",
       "5000117       1.875658       3.900000       0.010000             0   \n",
       "5000593       3.303878      10.000000       0.001000             0   \n",
       "5002056      38.631396      76.710894       2.007184             1   \n",
       "...                ...            ...            ...           ...   \n",
       "7578545      37.380673      76.722737      23.858483             0   \n",
       "7579990      35.257055      75.329873      25.468867             1   \n",
       "7582280       6.883095      17.500000       0.100000        495590   \n",
       "7586044      75.650130     153.400838      46.415399             9   \n",
       "7587156      27.218959      44.358325       5.864905            11   \n",
       "\n",
       "          in_block_std  in_value_sum  ...  to_out_max_min  to_out_min_sum  \\\n",
       "4994426       2.828427         101.0  ...        9.548549           101.0   \n",
       "4999520       0.707107         101.0  ...       14.259854           101.0   \n",
       "5000117            NaN           0.1  ...        0.100000             0.1   \n",
       "5000593            NaN          10.0  ...       10.000000            10.0   \n",
       "5002056       0.707107         101.0  ...       26.445508           101.0   \n",
       "...                ...           ...  ...             ...             ...   \n",
       "7578545       0.000000         101.0  ...       32.934178           101.0   \n",
       "7579990       0.707107         101.0  ...       40.028447           101.0   \n",
       "7582280  199821.744521          14.3  ...        0.500000            11.3   \n",
       "7586044       4.932883         201.0  ...       13.504406           201.0   \n",
       "7587156       7.778175          51.0  ...       25.002419            51.0   \n",
       "\n",
       "         to_out_min_std  to_out_min_median  to_out_min_max  to_out_min_min  \\\n",
       "4994426       57.914098          50.500000       91.451451        9.548549   \n",
       "4999520       51.251306          50.500000       86.740146       14.259854   \n",
       "5000117             NaN           0.100000        0.100000        0.100000   \n",
       "5000593             NaN          10.000000       10.000000       10.000000   \n",
       "5002056       34.018188          50.500000       74.554492       26.445508   \n",
       "...                 ...                ...             ...             ...   \n",
       "7578545       24.841824          50.500000       68.065822       32.934178   \n",
       "7579990       14.809012          50.500000       60.971553       40.028447   \n",
       "7582280        4.656447           0.650000        9.800000        0.200000   \n",
       "7586044       73.121337          37.175755      150.319839       13.504406   \n",
       "7587156        0.703685          25.500000       25.997581       25.002419   \n",
       "\n",
       "         in_count  in_nunique  in_count_nunique_ratio  in_count_nunique_equal  \n",
       "4994426         2           2                     1.0                       1  \n",
       "4999520         2           2                     1.0                       1  \n",
       "5000117         1           1                     1.0                       1  \n",
       "5000593         1           1                     1.0                       1  \n",
       "5002056         2           2                     1.0                       1  \n",
       "...           ...         ...                     ...                     ...  \n",
       "7578545         2           2                     1.0                       1  \n",
       "7579990         2           2                     1.0                       1  \n",
       "7582280         6           4                     1.5                       0  \n",
       "7586044         3           3                     1.0                       1  \n",
       "7587156         2           2                     1.0                       1  \n",
       "\n",
       "[1598 rows x 62 columns]"
      ]
     },
     "execution_count": 300,
     "metadata": {},
     "output_type": "execute_result"
    }
   ],
   "source": [
    "oot_test"
   ]
  },
  {
   "cell_type": "code",
   "execution_count": 301,
   "metadata": {
    "ExecuteTime": {
     "end_time": "2020-11-25T08:49:20.195290Z",
     "start_time": "2020-11-25T08:49:20.190288Z"
    }
   },
   "outputs": [],
   "source": [
    "oot_dtrain = lgb.Dataset(oot_train, label = oot_train_y, free_raw_data=False)\n",
    "oot_dtest = lgb.Dataset(oot_test, label = oot_test_y, free_raw_data=False)"
   ]
  },
  {
   "cell_type": "code",
   "execution_count": 303,
   "metadata": {
    "ExecuteTime": {
     "end_time": "2020-11-25T08:52:10.807453Z",
     "start_time": "2020-11-25T08:52:06.171377Z"
    }
   },
   "outputs": [
    {
     "name": "stdout",
     "output_type": "stream",
     "text": [
      "Training until validation scores don't improve for 400 rounds\n",
      "[5]\tvalid_0's res: 0.972047\tvalid_0's res: 0.820833\tvalid_0's res: 0.757692\n",
      "[10]\tvalid_0's res: 0.97515\tvalid_0's res: 0.829167\tvalid_0's res: 0.745318\n",
      "[15]\tvalid_0's res: 0.974926\tvalid_0's res: 0.8375\tvalid_0's res: 0.752809\n",
      "[20]\tvalid_0's res: 0.975733\tvalid_0's res: 0.820833\tvalid_0's res: 0.746212\n",
      "[25]\tvalid_0's res: 0.975847\tvalid_0's res: 0.825\tvalid_0's res: 0.744361\n",
      "[30]\tvalid_0's res: 0.976488\tvalid_0's res: 0.825\tvalid_0's res: 0.755725\n",
      "[35]\tvalid_0's res: 0.976332\tvalid_0's res: 0.825\tvalid_0's res: 0.758621\n",
      "[40]\tvalid_0's res: 0.976589\tvalid_0's res: 0.825\tvalid_0's res: 0.752852\n",
      "[45]\tvalid_0's res: 0.976595\tvalid_0's res: 0.825\tvalid_0's res: 0.761538\n",
      "[50]\tvalid_0's res: 0.976703\tvalid_0's res: 0.825\tvalid_0's res: 0.767442\n",
      "[55]\tvalid_0's res: 0.976819\tvalid_0's res: 0.816667\tvalid_0's res: 0.780876\n",
      "[60]\tvalid_0's res: 0.976399\tvalid_0's res: 0.804167\tvalid_0's res: 0.781377\n",
      "[65]\tvalid_0's res: 0.976767\tvalid_0's res: 0.8\tvalid_0's res: 0.777328\n",
      "[70]\tvalid_0's res: 0.976724\tvalid_0's res: 0.804167\tvalid_0's res: 0.804167\n",
      "[75]\tvalid_0's res: 0.976611\tvalid_0's res: 0.804167\tvalid_0's res: 0.787755\n",
      "[80]\tvalid_0's res: 0.976856\tvalid_0's res: 0.7875\tvalid_0's res: 0.784232\n",
      "[85]\tvalid_0's res: 0.97685\tvalid_0's res: 0.791667\tvalid_0's res: 0.788382\n",
      "[90]\tvalid_0's res: 0.976688\tvalid_0's res: 0.791667\tvalid_0's res: 0.785124\n",
      "[95]\tvalid_0's res: 0.976605\tvalid_0's res: 0.795833\tvalid_0's res: 0.792531\n",
      "[100]\tvalid_0's res: 0.976654\tvalid_0's res: 0.795833\tvalid_0's res: 0.799163\n",
      "[105]\tvalid_0's res: 0.976657\tvalid_0's res: 0.783333\tvalid_0's res: 0.8\n",
      "[110]\tvalid_0's res: 0.976356\tvalid_0's res: 0.7875\tvalid_0's res: 0.804255\n",
      "[115]\tvalid_0's res: 0.97631\tvalid_0's res: 0.783333\tvalid_0's res: 0.79661\n",
      "[120]\tvalid_0's res: 0.976028\tvalid_0's res: 0.783333\tvalid_0's res: 0.793249\n",
      "[125]\tvalid_0's res: 0.97624\tvalid_0's res: 0.7875\tvalid_0's res: 0.794118\n",
      "[130]\tvalid_0's res: 0.976092\tvalid_0's res: 0.7875\tvalid_0's res: 0.811159\n",
      "[135]\tvalid_0's res: 0.975985\tvalid_0's res: 0.783333\tvalid_0's res: 0.806867\n",
      "[140]\tvalid_0's res: 0.975859\tvalid_0's res: 0.783333\tvalid_0's res: 0.810345\n",
      "[145]\tvalid_0's res: 0.975994\tvalid_0's res: 0.783333\tvalid_0's res: 0.810345\n",
      "[150]\tvalid_0's res: 0.975859\tvalid_0's res: 0.783333\tvalid_0's res: 0.806867\n",
      "[155]\tvalid_0's res: 0.975709\tvalid_0's res: 0.7875\tvalid_0's res: 0.807692\n",
      "[160]\tvalid_0's res: 0.975675\tvalid_0's res: 0.783333\tvalid_0's res: 0.810345\n",
      "[165]\tvalid_0's res: 0.975693\tvalid_0's res: 0.7875\tvalid_0's res: 0.814655\n",
      "[170]\tvalid_0's res: 0.975448\tvalid_0's res: 0.783333\tvalid_0's res: 0.810345\n",
      "[175]\tvalid_0's res: 0.975328\tvalid_0's res: 0.7875\tvalid_0's res: 0.811159\n",
      "[180]\tvalid_0's res: 0.975304\tvalid_0's res: 0.7875\tvalid_0's res: 0.807692\n",
      "[185]\tvalid_0's res: 0.975212\tvalid_0's res: 0.7875\tvalid_0's res: 0.811159\n",
      "[190]\tvalid_0's res: 0.975074\tvalid_0's res: 0.7875\tvalid_0's res: 0.811159\n",
      "[195]\tvalid_0's res: 0.975245\tvalid_0's res: 0.7875\tvalid_0's res: 0.814655\n",
      "[200]\tvalid_0's res: 0.975163\tvalid_0's res: 0.7875\tvalid_0's res: 0.825328\n",
      "[205]\tvalid_0's res: 0.975307\tvalid_0's res: 0.783333\tvalid_0's res: 0.824561\n",
      "[210]\tvalid_0's res: 0.97539\tvalid_0's res: 0.783333\tvalid_0's res: 0.820961\n",
      "[215]\tvalid_0's res: 0.975463\tvalid_0's res: 0.7875\tvalid_0's res: 0.821739\n",
      "[220]\tvalid_0's res: 0.975451\tvalid_0's res: 0.783333\tvalid_0's res: 0.820961\n",
      "[225]\tvalid_0's res: 0.975448\tvalid_0's res: 0.783333\tvalid_0's res: 0.817391\n",
      "[230]\tvalid_0's res: 0.975377\tvalid_0's res: 0.783333\tvalid_0's res: 0.817391\n",
      "[235]\tvalid_0's res: 0.975258\tvalid_0's res: 0.779167\tvalid_0's res: 0.820175\n",
      "[240]\tvalid_0's res: 0.975331\tvalid_0's res: 0.783333\tvalid_0's res: 0.817391\n",
      "[245]\tvalid_0's res: 0.975249\tvalid_0's res: 0.783333\tvalid_0's res: 0.820961\n",
      "[250]\tvalid_0's res: 0.975307\tvalid_0's res: 0.7875\tvalid_0's res: 0.825328\n",
      "[255]\tvalid_0's res: 0.975209\tvalid_0's res: 0.7875\tvalid_0's res: 0.825328\n",
      "[260]\tvalid_0's res: 0.975138\tvalid_0's res: 0.7875\tvalid_0's res: 0.825328\n",
      "[265]\tvalid_0's res: 0.97512\tvalid_0's res: 0.7875\tvalid_0's res: 0.825328\n",
      "[270]\tvalid_0's res: 0.975163\tvalid_0's res: 0.7875\tvalid_0's res: 0.825328\n",
      "[275]\tvalid_0's res: 0.975209\tvalid_0's res: 0.7875\tvalid_0's res: 0.825328\n",
      "[280]\tvalid_0's res: 0.975267\tvalid_0's res: 0.7875\tvalid_0's res: 0.825328\n",
      "[285]\tvalid_0's res: 0.975261\tvalid_0's res: 0.7875\tvalid_0's res: 0.825328\n",
      "[290]\tvalid_0's res: 0.975245\tvalid_0's res: 0.7875\tvalid_0's res: 0.825328\n",
      "[295]\tvalid_0's res: 0.975304\tvalid_0's res: 0.7875\tvalid_0's res: 0.825328\n",
      "[300]\tvalid_0's res: 0.975252\tvalid_0's res: 0.7875\tvalid_0's res: 0.825328\n",
      "[305]\tvalid_0's res: 0.975193\tvalid_0's res: 0.7875\tvalid_0's res: 0.825328\n",
      "[310]\tvalid_0's res: 0.975178\tvalid_0's res: 0.7875\tvalid_0's res: 0.825328\n",
      "[315]\tvalid_0's res: 0.975169\tvalid_0's res: 0.7875\tvalid_0's res: 0.821739\n",
      "[320]\tvalid_0's res: 0.975169\tvalid_0's res: 0.7875\tvalid_0's res: 0.821739\n",
      "[325]\tvalid_0's res: 0.975193\tvalid_0's res: 0.7875\tvalid_0's res: 0.821739\n",
      "[330]\tvalid_0's res: 0.975199\tvalid_0's res: 0.7875\tvalid_0's res: 0.825328\n",
      "[335]\tvalid_0's res: 0.975221\tvalid_0's res: 0.7875\tvalid_0's res: 0.821739\n",
      "[340]\tvalid_0's res: 0.975114\tvalid_0's res: 0.7875\tvalid_0's res: 0.821739\n",
      "[345]\tvalid_0's res: 0.975178\tvalid_0's res: 0.783333\tvalid_0's res: 0.820961\n",
      "[350]\tvalid_0's res: 0.975193\tvalid_0's res: 0.7875\tvalid_0's res: 0.825328\n",
      "[355]\tvalid_0's res: 0.975273\tvalid_0's res: 0.783333\tvalid_0's res: 0.824561\n",
      "[360]\tvalid_0's res: 0.975319\tvalid_0's res: 0.7875\tvalid_0's res: 0.825328\n",
      "[365]\tvalid_0's res: 0.975334\tvalid_0's res: 0.7875\tvalid_0's res: 0.825328\n",
      "[370]\tvalid_0's res: 0.975384\tvalid_0's res: 0.7875\tvalid_0's res: 0.825328\n",
      "[375]\tvalid_0's res: 0.975371\tvalid_0's res: 0.7875\tvalid_0's res: 0.825328\n",
      "[380]\tvalid_0's res: 0.97535\tvalid_0's res: 0.7875\tvalid_0's res: 0.821739\n",
      "[385]\tvalid_0's res: 0.975338\tvalid_0's res: 0.7875\tvalid_0's res: 0.821739\n",
      "[390]\tvalid_0's res: 0.975387\tvalid_0's res: 0.7875\tvalid_0's res: 0.821739\n",
      "[395]\tvalid_0's res: 0.975328\tvalid_0's res: 0.7875\tvalid_0's res: 0.821739\n",
      "[400]\tvalid_0's res: 0.975328\tvalid_0's res: 0.7875\tvalid_0's res: 0.814655\n",
      "Early stopping, best iteration is:\n",
      "[1]\tvalid_0's res: 0.954458\tvalid_0's res: 0.55\tvalid_0's res: 0.857143\n"
     ]
    }
   ],
   "source": [
    "evals_result = {}\n",
    "#threshold=0.3\n",
    "lgb_model = lgb.train(lgb_params, oot_dtrain, num_boost_round=1200,feval=[lgb_evalMetric, lgb_recall_evalMetric, lgb_pre_evalMetric], verbose_eval = 5,valid_sets=oot_dtest,evals_result=evals_result,#非常重要的参数,一定要明确设置\n",
    "                       \n",
    "                      early_stopping_rounds= 400)"
   ]
  },
  {
   "cell_type": "code",
   "execution_count": null,
   "metadata": {},
   "outputs": [],
   "source": []
  },
  {
   "cell_type": "code",
   "execution_count": null,
   "metadata": {},
   "outputs": [],
   "source": [
    "fpr,tpr,threshold = roc_curve(y_test, y_score) ###计算真正率和假正率\n",
    "roc_auc = auc(fpr,tpr) ###计算auc的值\n",
    " \n",
    "plt.figure()\n",
    "lw = 2\n",
    "plt.figure(figsize=(10,10))\n",
    "plt.plot(fpr, tpr, color='darkorange',\n",
    "         lw=lw, label='ROC curve (area = %0.2f)' % roc_auc) ###假正率为横坐标，真正率为纵坐标做曲线\n",
    "plt.plot([0, 1], [0, 1], color='navy', lw=lw, linestyle='--')\n",
    "plt.xlim([0.0, 1.0])\n",
    "plt.ylim([0.0, 1.05])\n",
    "plt.xlabel('False Positive Rate')\n",
    "plt.ylabel('True Positive Rate')\n",
    "plt.title('Receiver operating characteristic example')\n",
    "plt.legend(loc=\"lower right\")\n",
    "plt.show()"
   ]
  },
  {
   "cell_type": "code",
   "execution_count": null,
   "metadata": {},
   "outputs": [],
   "source": []
  },
  {
   "cell_type": "code",
   "execution_count": null,
   "metadata": {},
   "outputs": [],
   "source": []
  },
  {
   "cell_type": "code",
   "execution_count": null,
   "metadata": {},
   "outputs": [],
   "source": []
  },
  {
   "cell_type": "code",
   "execution_count": null,
   "metadata": {},
   "outputs": [],
   "source": []
  },
  {
   "cell_type": "code",
   "execution_count": 43,
   "metadata": {
    "ExecuteTime": {
     "end_time": "2020-11-23T15:23:17.443666Z",
     "start_time": "2020-11-23T15:23:17.438663Z"
    }
   },
   "outputs": [
    {
     "data": {
      "text/plain": [
       "8385"
      ]
     },
     "execution_count": 43,
     "metadata": {},
     "output_type": "execute_result"
    }
   ],
   "source": [
    "len(y_train)"
   ]
  },
  {
   "cell_type": "markdown",
   "metadata": {},
   "source": [
    "## 模型测试"
   ]
  },
  {
   "cell_type": "code",
   "execution_count": 147,
   "metadata": {
    "ExecuteTime": {
     "end_time": "2020-11-24T07:19:53.717655Z",
     "start_time": "2020-11-24T07:19:53.707656Z"
    }
   },
   "outputs": [],
   "source": [
    "threshold = 0.5\n",
    "def lgb_evalMetric(preds,dtrain):\n",
    "    label = dtrain.get_label()\n",
    "    pre = pd.DataFrame({'preds':preds,'label':label})\n",
    "    pre= pre.sort_values(by='preds',ascending=False)\n",
    "    #pre.preds=pre.preds.map(lambda x: 1 if x>=threshold else 0)\n",
    "    auc = metrics.roc_auc_score(y_true=pre.label,y_score=pre.preds)\n",
    "    #precision = metrics.precision_score(pre.label,pre.preds)\n",
    "    #recall = metrics.recall_score(pre.label,pre.preds)\n",
    "    res = auc\n",
    "    return 'res',res, True\n",
    "\n",
    "def lgb_pre_evalMetric(preds,dtrain):\n",
    "    label = dtrain.get_label()\n",
    "    pre = pd.DataFrame({'preds':preds,'label':label})\n",
    "    pre= pre.sort_values(by='preds',ascending=False)\n",
    "    pre.preds=pre.preds.map(lambda x: 1 if x>=threshold else 0)\n",
    "    precision = metrics.precision_score(pre.label,pre.preds)\n",
    "    res = precision\n",
    "    return 'res',res, True\n",
    "\n",
    "def lgb_recall_evalMetric(preds,dtrain):\n",
    "    label = dtrain.get_label()\n",
    "    pre = pd.DataFrame({'preds':preds,'label':label})\n",
    "    pre= pre.sort_values(by='preds',ascending=False)\n",
    "    pre.preds=pre.preds.map(lambda x: 1 if x>=threshold else 0)\n",
    "    recall = metrics.recall_score(pre.label,pre.preds)\n",
    "    res = recall\n",
    "    return 'res',res, True\n",
    "\n",
    "def lgb_auc_evalMetric(preds,dtrain):\n",
    "    label = dtrain.get_label()\n",
    "    pre = pd.DataFrame({'preds':preds,'label':label})\n",
    "    pre= pre.sort_values(by='preds',ascending=False)\n",
    "    pre.preds=pre.preds.map(lambda x: 1 if x>=threshold else 0)\n",
    "    auc = metrics.roc_auc_score(pre.label,pre.preds)\n",
    "    res = auc\n",
    "    return 'res',res, True"
   ]
  },
  {
   "cell_type": "code",
   "execution_count": 148,
   "metadata": {
    "ExecuteTime": {
     "end_time": "2020-11-24T07:20:05.609330Z",
     "start_time": "2020-11-24T07:20:05.605327Z"
    }
   },
   "outputs": [],
   "source": [
    "lgb_params = {\n",
    "    'boosting_type': 'gbdt',\n",
    "    'objective': 'binary',\n",
    "    #'colsample_bytree': 0.8,\n",
    "    'learning_rate': 0.2,\n",
    "    'num_leaves': 32,\n",
    "    'verbosity': -1,\n",
    "    'max_depth': 10,\n",
    "    'metric': 'lgb_recall_evalMetric'\n",
    "    }"
   ]
  },
  {
   "cell_type": "code",
   "execution_count": 149,
   "metadata": {
    "ExecuteTime": {
     "end_time": "2020-11-24T07:20:17.714137Z",
     "start_time": "2020-11-24T07:20:17.711139Z"
    }
   },
   "outputs": [],
   "source": [
    "dtrain = lgb.Dataset(X_train, label = y_train)"
   ]
  },
  {
   "cell_type": "code",
   "execution_count": 150,
   "metadata": {
    "ExecuteTime": {
     "end_time": "2020-11-24T07:20:40.790321Z",
     "start_time": "2020-11-24T07:20:29.700739Z"
    }
   },
   "outputs": [
    {
     "name": "stdout",
     "output_type": "stream",
     "text": [
      "[10]\tcv_agg's res: 0.930148 + 0.00788435\n",
      "[20]\tcv_agg's res: 0.935339 + 0.00377644\n",
      "[30]\tcv_agg's res: 0.946376 + 0.00380912\n",
      "[40]\tcv_agg's res: 0.948239 + 0.00307759\n",
      "[50]\tcv_agg's res: 0.950972 + 0.00259789\n",
      "[60]\tcv_agg's res: 0.953408 + 0.00171131\n",
      "[70]\tcv_agg's res: 0.955834 + 0.00183767\n",
      "[80]\tcv_agg's res: 0.958261 + 0.00120046\n",
      "[90]\tcv_agg's res: 0.95988 + 0.00163946\n",
      "[100]\tcv_agg's res: 0.961089 + 0.00121944\n",
      "[110]\tcv_agg's res: 0.96193 + 0.00165268\n",
      "[120]\tcv_agg's res: 0.962903 + 0.00295988\n",
      "[130]\tcv_agg's res: 0.963979 + 0.00309253\n",
      "[140]\tcv_agg's res: 0.96445 + 0.00319388\n",
      "[150]\tcv_agg's res: 0.965309 + 0.00353304\n",
      "[160]\tcv_agg's res: 0.96628 + 0.00285123\n",
      "[170]\tcv_agg's res: 0.966833 + 0.00277608\n",
      "[180]\tcv_agg's res: 0.966839 + 0.00322851\n",
      "[190]\tcv_agg's res: 0.966749 + 0.00283177\n",
      "[200]\tcv_agg's res: 0.966708 + 0.00265914\n",
      "[210]\tcv_agg's res: 0.966868 + 0.00270874\n",
      "[220]\tcv_agg's res: 0.967464 + 0.00263151\n",
      "[230]\tcv_agg's res: 0.967761 + 0.00316235\n",
      "[240]\tcv_agg's res: 0.968047 + 0.00273348\n",
      "[250]\tcv_agg's res: 0.968327 + 0.00238327\n"
     ]
    }
   ],
   "source": [
    "cv_res = lgb.cv(lgb_params, dtrain, num_boost_round=250,feval=lgb_evalMetric, verbose_eval = 10, nfold=3,metrics=('lgb_evalMetric'),\n",
    "       early_stopping_rounds= 100)"
   ]
  },
  {
   "cell_type": "code",
   "execution_count": 307,
   "metadata": {
    "ExecuteTime": {
     "end_time": "2020-11-26T14:45:28.584926Z",
     "start_time": "2020-11-26T14:45:28.562925Z"
    }
   },
   "outputs": [],
   "source": [
    "phishing_address_set = set(train_label[train_label['label'] == 1]['address'])"
   ]
  },
  {
   "cell_type": "code",
   "execution_count": null,
   "metadata": {},
   "outputs": [],
   "source": []
  },
  {
   "cell_type": "code",
   "execution_count": 308,
   "metadata": {
    "ExecuteTime": {
     "end_time": "2020-11-26T14:46:00.476974Z",
     "start_time": "2020-11-26T14:46:00.409975Z"
    }
   },
   "outputs": [
    {
     "ename": "TypeError",
     "evalue": "'Series' objects are mutable, thus they cannot be hashed",
     "output_type": "error",
     "traceback": [
      "\u001b[1;31m---------------------------------------------------------------------------\u001b[0m",
      "\u001b[1;31mTypeError\u001b[0m                                 Traceback (most recent call last)",
      "\u001b[1;32m<ipython-input-308-a7bc23ed5868>\u001b[0m in \u001b[0;36m<module>\u001b[1;34m\u001b[0m\n\u001b[1;32m----> 1\u001b[1;33m \u001b[0mphishing_data\u001b[0m \u001b[1;33m=\u001b[0m \u001b[0mtrain_data\u001b[0m\u001b[1;33m[\u001b[0m\u001b[1;33m(\u001b[0m\u001b[0mtrain_data\u001b[0m\u001b[1;33m[\u001b[0m\u001b[1;34m'from'\u001b[0m\u001b[1;33m]\u001b[0m \u001b[1;32min\u001b[0m \u001b[0mphishing_address_set\u001b[0m\u001b[1;33m)\u001b[0m\u001b[1;33m|\u001b[0m\u001b[1;33m(\u001b[0m\u001b[0mtrain_data\u001b[0m\u001b[1;33m[\u001b[0m\u001b[1;34m'to'\u001b[0m\u001b[1;33m]\u001b[0m \u001b[1;32min\u001b[0m \u001b[0mphishing_address_set\u001b[0m\u001b[1;33m)\u001b[0m\u001b[1;33m]\u001b[0m\u001b[1;33m\u001b[0m\u001b[1;33m\u001b[0m\u001b[0m\n\u001b[0m",
      "\u001b[1;32mD:\\ProgramData\\anaconda\\lib\\site-packages\\pandas\\core\\generic.py\u001b[0m in \u001b[0;36m__hash__\u001b[1;34m(self)\u001b[0m\n\u001b[0;32m   1796\u001b[0m \u001b[1;33m\u001b[0m\u001b[0m\n\u001b[0;32m   1797\u001b[0m     \u001b[1;32mdef\u001b[0m \u001b[0m__hash__\u001b[0m\u001b[1;33m(\u001b[0m\u001b[0mself\u001b[0m\u001b[1;33m)\u001b[0m\u001b[1;33m:\u001b[0m\u001b[1;33m\u001b[0m\u001b[1;33m\u001b[0m\u001b[0m\n\u001b[1;32m-> 1798\u001b[1;33m         raise TypeError(\n\u001b[0m\u001b[0;32m   1799\u001b[0m             \u001b[1;34mf\"{repr(type(self).__name__)} objects are mutable, \"\u001b[0m\u001b[1;33m\u001b[0m\u001b[1;33m\u001b[0m\u001b[0m\n\u001b[0;32m   1800\u001b[0m             \u001b[1;34mf\"thus they cannot be hashed\"\u001b[0m\u001b[1;33m\u001b[0m\u001b[1;33m\u001b[0m\u001b[0m\n",
      "\u001b[1;31mTypeError\u001b[0m: 'Series' objects are mutable, thus they cannot be hashed"
     ]
    }
   ],
   "source": [
    "phishing_data = train_data[(train_data['from'] in phishing_address_set)|(train_data['to'] in phishing_address_set)]"
   ]
  },
  {
   "cell_type": "code",
   "execution_count": null,
   "metadata": {},
   "outputs": [],
   "source": []
  },
  {
   "cell_type": "code",
   "execution_count": null,
   "metadata": {},
   "outputs": [],
   "source": []
  },
  {
   "cell_type": "code",
   "execution_count": null,
   "metadata": {},
   "outputs": [],
   "source": []
  },
  {
   "cell_type": "code",
   "execution_count": null,
   "metadata": {},
   "outputs": [],
   "source": []
  },
  {
   "cell_type": "code",
   "execution_count": null,
   "metadata": {
    "ExecuteTime": {
     "end_time": "2020-11-24T06:07:14.366807Z",
     "start_time": "2020-11-24T05:58:33.090976Z"
    }
   },
   "outputs": [],
   "source": [
    "while True:    \n",
    "    X_train, y_train = feature_matrix_to_train_matrix(feature, train_label)\n",
    "    dtrain = lgb.Dataset(X_train, label = y_train)\n",
    "    evals_result = {}\n",
    "    lgb_model = lgb.train(lgb_params, dtrain, num_boost_round=400,feval=lgb_evalMetric, verbose_eval = 10,valid_sets=dtrain,evals_result=evals_result,#非常重要的参数,一定要明确设置\n",
    "           early_stopping_rounds= 100)\n",
    "    sorted_impo = pd.DataFrame([lgb_model.feature_name(), lgb_model.feature_importance()]).T.sort_values(by=1, ascending=False)[0]\n",
    "    if (sorted_impo[1] == 'to_out_sum_median' and sorted_impo[2] == 'from_in_sum_mean') :break"
   ]
  },
  {
   "cell_type": "code",
   "execution_count": null,
   "metadata": {},
   "outputs": [],
   "source": [
    "lgb.plot_importance(lgb_model, max_num_features=15, title='')\n",
    "plt.savefig('importance.jpg')"
   ]
  },
  {
   "cell_type": "code",
   "execution_count": null,
   "metadata": {},
   "outputs": [],
   "source": [
    "sorted_impo = pd.DataFrame([lgb_model.feature_name(), lgb_model.feature_importance()]).T.sort_values(by=1, ascending=False)[0]"
   ]
  },
  {
   "cell_type": "code",
   "execution_count": null,
   "metadata": {},
   "outputs": [],
   "source": []
  },
  {
   "cell_type": "markdown",
   "metadata": {},
   "source": [
    "### 动态性测试"
   ]
  },
  {
   "cell_type": "code",
   "execution_count": null,
   "metadata": {},
   "outputs": [],
   "source": [
    "import warnings\n",
    "warnings.filterwarnings(\"ignore\")"
   ]
  },
  {
   "cell_type": "code",
   "execution_count": null,
   "metadata": {},
   "outputs": [],
   "source": [
    "#按時間劃分\n",
    "cv_res = []\n",
    "frac_num = 15\n",
    "for i in range(frac_num):\n",
    "    curr_train = train_data[0:int(len(train_data) * ((i + 1) / frac_num))]\n",
    "\n",
    "    curr_feature = get_feature(curr_train)\n",
    "\n",
    "    X_curr, y_curr = feature_matrix_to_train_matrix(curr_feature, train_label)\n",
    "\n",
    "    dtrain = lgb.Dataset(X_curr, label = y_curr)\n",
    "\n",
    "    cv_tmp = lgb.cv(lgb_params, dtrain, num_boost_round=400,feval=lgb_evalMetric, verbose_eval = 10, nfold=2,metrics=('lgb_evalMetric'),\n",
    "           early_stopping_rounds= 100)\n",
    "\n",
    "    cv_res.append(max(cv_tmp['res-mean']))"
   ]
  },
  {
   "cell_type": "code",
   "execution_count": null,
   "metadata": {},
   "outputs": [],
   "source": [
    "cv_res"
   ]
  },
  {
   "cell_type": "code",
   "execution_count": null,
   "metadata": {},
   "outputs": [],
   "source": []
  },
  {
   "cell_type": "code",
   "execution_count": null,
   "metadata": {},
   "outputs": [],
   "source": []
  },
  {
   "cell_type": "code",
   "execution_count": null,
   "metadata": {},
   "outputs": [],
   "source": [
    "phishing_label = pd.read_csv('./data/phishing_label.csv')"
   ]
  },
  {
   "cell_type": "code",
   "execution_count": null,
   "metadata": {},
   "outputs": [],
   "source": [
    "len(train_data)"
   ]
  },
  {
   "cell_type": "code",
   "execution_count": null,
   "metadata": {},
   "outputs": [],
   "source": [
    "address_map = {}\n",
    "def cal_data_index(x):\n",
    "    if x in address_map:\n",
    "        address_map[x] = address_map[x] + 1\n",
    "    else:\n",
    "        address_map[x] = 1\n",
    "    return address_map[x]"
   ]
  },
  {
   "cell_type": "code",
   "execution_count": null,
   "metadata": {},
   "outputs": [],
   "source": [
    "train_data['data_index'] = train_data['to'].apply(cal_data_index)"
   ]
  },
  {
   "cell_type": "code",
   "execution_count": null,
   "metadata": {},
   "outputs": [],
   "source": [
    "upperbound = 59\n",
    "cv_pre_res = []\n",
    "cv_recall_res = []\n",
    "cv_auc_res = []\n",
    "for i in range(upperbound):\n",
    "    kth_train_address_set = set(train_data[train_data['data_index'] == i + 1]['to'])\n",
    "    kth_train_data = train_data[train_data['data_index'] <= i + 1]\n",
    "    kth_train_data = kth_train_data[kth_train_data['to'].isin(kth_train_address_set)]\n",
    "    kth_train_feature = get_feature(kth_train_data)\n",
    "    X_kth, y_kth = feature_matrix_to_train_matrix(kth_train_feature, train_label)\n",
    "    dtrain = lgb.Dataset(X_kth, label = y_kth)\n",
    "    cv_pre_tmp = lgb.cv(lgb_params, dtrain, num_boost_round=400,feval=lgb_pre_evalMetric, verbose_eval = 10, nfold=2,metrics=('lgb_pre_evalMetric'),\n",
    "           early_stopping_rounds= 100)\n",
    "    cv_recall_tmp = lgb.cv(lgb_params, dtrain, num_boost_round=400,feval=lgb_recall_evalMetric, verbose_eval = 10, nfold=2,metrics=('lgb_recall_evalMetric'),\n",
    "           early_stopping_rounds= 100)   \n",
    "    cv_auc_tmp = lgb.cv(lgb_params, dtrain, num_boost_round=400,feval=lgb_auc_evalMetric, verbose_eval = 10, nfold=2,metrics=('lgb_auc_evalMetric'),\n",
    "           early_stopping_rounds= 100)      \n",
    "    cv_pre_res.append(max(cv_pre_tmp['res-mean']))\n",
    "    cv_recall_res.append(max(cv_recall_tmp['res-mean']))\n",
    "    cv_auc_res.append(max(cv_auc_tmp['res-mean']))"
   ]
  },
  {
   "cell_type": "code",
   "execution_count": null,
   "metadata": {},
   "outputs": [],
   "source": [
    "cv_f1_res = list(map(lambda x, y:  2 * x * y / (x + y), cv_pre_res, cv_recall_res))"
   ]
  },
  {
   "cell_type": "code",
   "execution_count": null,
   "metadata": {},
   "outputs": [],
   "source": [
    "cv_pre_res[15]"
   ]
  },
  {
   "cell_type": "code",
   "execution_count": null,
   "metadata": {},
   "outputs": [],
   "source": [
    "index = list(range(len(cv_auc_res)))"
   ]
  },
  {
   "cell_type": "code",
   "execution_count": null,
   "metadata": {},
   "outputs": [],
   "source": [
    "import matplotlib.pyplot as plt\n",
    "x = np.array(index)\n",
    "\n",
    "\n",
    "y_pre = np.array(cv_pre_res)\n",
    "f_fit = np.poly1d(np.polyfit(x, y_pre, 12))\n",
    "yfit = f_fit(x)\n",
    "plt.plot(x, yfit, label='Precision')\n",
    "\n",
    "y_recall = np.array(cv_recall_res)\n",
    "f_fit = np.poly1d(np.polyfit(x, y_recall, 7))\n",
    "yfit = f_fit(x)\n",
    "plt.plot(x, yfit, label='Recall')\n",
    "\n",
    "y_f1 = np.array(cv_f1_res)\n",
    "f_fit = np.poly1d(np.polyfit(x, y_f1, 10))\n",
    "yfit = f_fit(x)\n",
    "plt.plot(x, yfit, label='F1')\n",
    "\n",
    "y_auc = np.array(cv_auc_res)\n",
    "f_fit = np.poly1d(np.polyfit(x, y_auc, 10))\n",
    "yfit = f_fit(x)\n",
    "plt.plot(x, yfit, label='AUC')\n",
    "\n",
    "plt.xlabel('Number of in transaction')\n",
    "plt.ylabel('Cross validation performance')\n",
    "plt.legend()\n",
    "plt.savefig('dynamic_performance.jpg')"
   ]
  },
  {
   "cell_type": "code",
   "execution_count": null,
   "metadata": {},
   "outputs": [],
   "source": []
  },
  {
   "cell_type": "code",
   "execution_count": null,
   "metadata": {},
   "outputs": [],
   "source": []
  },
  {
   "cell_type": "code",
   "execution_count": null,
   "metadata": {},
   "outputs": [],
   "source": [
    "train_label.sum()"
   ]
  },
  {
   "cell_type": "code",
   "execution_count": null,
   "metadata": {},
   "outputs": [],
   "source": [
    "feature_new = get_feature(train_data)"
   ]
  },
  {
   "cell_type": "code",
   "execution_count": null,
   "metadata": {},
   "outputs": [],
   "source": [
    "X_tmp, y_tmp = feature_matrix_to_train_matrix(feature, train_label)\n",
    "dtrain = lgb.Dataset(X_tmp, label = y_tmp)\n",
    "cv_tmp = lgb.cv(lgb_params, dtrain, num_boost_round=400,feval=lgb_evalMetric, verbose_eval = 10, nfold=5,metrics=('lgb_evalMetric'),\n",
    "           early_stopping_rounds= 100)"
   ]
  },
  {
   "cell_type": "code",
   "execution_count": null,
   "metadata": {},
   "outputs": [],
   "source": []
  },
  {
   "cell_type": "code",
   "execution_count": null,
   "metadata": {},
   "outputs": [],
   "source": [
    "y_tmp.sum()"
   ]
  },
  {
   "cell_type": "code",
   "execution_count": null,
   "metadata": {},
   "outputs": [],
   "source": []
  },
  {
   "cell_type": "markdown",
   "metadata": {},
   "source": [
    "### 與svm和dt對比"
   ]
  },
  {
   "cell_type": "code",
   "execution_count": null,
   "metadata": {},
   "outputs": [],
   "source": [
    "from sklearn.model_selection import train_test_split"
   ]
  },
  {
   "cell_type": "code",
   "execution_count": null,
   "metadata": {},
   "outputs": [],
   "source": [
    "x_tn, x_tt, y_tn, y_tt = train_test_split(X_train,y_train, test_size=0.25)"
   ]
  },
  {
   "cell_type": "code",
   "execution_count": null,
   "metadata": {},
   "outputs": [],
   "source": [
    "from sklearn import svm"
   ]
  },
  {
   "cell_type": "code",
   "execution_count": null,
   "metadata": {},
   "outputs": [],
   "source": [
    "from sklearn import tree\n",
    "from sklearn.metrics import roc_auc_score\n",
    "from sklearn.metrics import precision_score\n",
    "from sklearn.metrics import recall_score"
   ]
  },
  {
   "cell_type": "code",
   "execution_count": null,
   "metadata": {},
   "outputs": [],
   "source": [
    "clf = svm.OneClassSVM(nu=0.1, kernel=\"rbf\", gamma=0.1)\n",
    "x_tn.fillna(0, inplace=True)\n",
    "x_tt.fillna(0, inplace=True)\n",
    "clf.fit(x_tn, y_tn)\n",
    "svm_preds = clf.predict(x_tt)\n",
    "svm_auc_score = roc_auc_score(y_tt,svm_preds)\n",
    "svm_precision_score = precision_score(y_tt, svm_preds, average='macro')\n",
    "svm_recall_score = recall_score(y_tt, svm_preds, average='macro')"
   ]
  },
  {
   "cell_type": "code",
   "execution_count": null,
   "metadata": {},
   "outputs": [],
   "source": []
  },
  {
   "cell_type": "code",
   "execution_count": null,
   "metadata": {},
   "outputs": [],
   "source": [
    "clf = tree.DecisionTreeClassifier()\n",
    "x_tn.fillna(0, inplace=True)\n",
    "x_tt.fillna(0, inplace=True)\n",
    "clf.fit(x_tn, y_tn)\n",
    "dt_preds = clf.predict(x_tt)\n",
    "dt_auc_score = roc_auc_score(y_tt,dt_preds)\n",
    "dt_precision_score = precision_score(y_tt, dt_preds, average='macro')\n",
    "dt_recall_score = recall_score(y_tt, dt_preds, average='macro')"
   ]
  },
  {
   "cell_type": "code",
   "execution_count": null,
   "metadata": {},
   "outputs": [],
   "source": []
  },
  {
   "cell_type": "code",
   "execution_count": null,
   "metadata": {},
   "outputs": [],
   "source": [
    "#经过均衡\n",
    "print(dt_auc_score)\n",
    "print(dt_precision_score)\n",
    "print(dt_recall_score)"
   ]
  },
  {
   "cell_type": "code",
   "execution_count": null,
   "metadata": {},
   "outputs": [],
   "source": []
  },
  {
   "cell_type": "markdown",
   "metadata": {},
   "source": [
    "## 案例分析"
   ]
  },
  {
   "cell_type": "code",
   "execution_count": null,
   "metadata": {},
   "outputs": [],
   "source": [
    "sample_addr = '0x2a6d8021861f27ab992572d8689017b7a83c989d'"
   ]
  },
  {
   "cell_type": "code",
   "execution_count": null,
   "metadata": {},
   "outputs": [],
   "source": [
    "sample_addr_data = train_data[(train_data['from'] == sample_addr) | (train_data['to'] == sample_addr)]"
   ]
  },
  {
   "cell_type": "code",
   "execution_count": null,
   "metadata": {},
   "outputs": [],
   "source": [
    "sample_addr_data"
   ]
  },
  {
   "cell_type": "code",
   "execution_count": null,
   "metadata": {},
   "outputs": [],
   "source": [
    "#sample_addr_data"
   ]
  },
  {
   "cell_type": "code",
   "execution_count": null,
   "metadata": {},
   "outputs": [],
   "source": [
    "sample_dynamic_feature = pd.DataFrame()\n",
    "for i in range(len(sample_addr_data)):\n",
    "    part_sample_addr_data = sample_addr_data[:i]\n",
    "    tmp_fea = get_sample_feature(part_sample_addr_data)\n",
    "    target_fea = tmp_fea[tmp_fea['address'] == sample_addr]\n",
    "    sample_dynamic_feature = pd.concat([sample_dynamic_feature,target_fea])"
   ]
  },
  {
   "cell_type": "code",
   "execution_count": null,
   "metadata": {},
   "outputs": [],
   "source": [
    "sample_dynamic_feature.drop('address', axis = 1, inplace=True)"
   ]
  },
  {
   "cell_type": "code",
   "execution_count": null,
   "metadata": {},
   "outputs": [],
   "source": []
  },
  {
   "cell_type": "code",
   "execution_count": null,
   "metadata": {},
   "outputs": [],
   "source": [
    "without_sample_fea = feature[feature['address'] != sample_addr]\n",
    "X_tmp, y_tmp = feature_matrix_to_train_matrix(without_sample_fea, train_label)\n",
    "dtrain = lgb.Dataset(X_tmp, label = y_tmp)\n",
    "sample_lgb_model = lgb.train(lgb_params, dtrain, num_boost_round=400,feval=lgb_evalMetric, verbose_eval = 10,valid_sets=dtrain,\n",
    "       early_stopping_rounds= 100)"
   ]
  },
  {
   "cell_type": "code",
   "execution_count": null,
   "metadata": {},
   "outputs": [],
   "source": [
    "sample_dynamic_res = sample_lgb_model.predict(sample_dynamic_feature)"
   ]
  },
  {
   "cell_type": "code",
   "execution_count": null,
   "metadata": {},
   "outputs": [],
   "source": [
    "sample_dynamic_res"
   ]
  },
  {
   "cell_type": "code",
   "execution_count": null,
   "metadata": {
    "scrolled": true
   },
   "outputs": [],
   "source": [
    "dynamic_x = np.array(range(len(sample_dynamic_res)))\n",
    "dynamic_f_fit = np.poly1d(np.polyfit(dynamic_x, sample_dynamic_res,5))\n",
    "dynamic_yfit = dynamic_f_fit(dynamic_x)\n",
    "plt.plot(dynamic_x, dynamic_yfit, marker='o', markevery=[3,15])\n",
    "plt.axhline(y=0.52306926,ls='--', xmax=0.06, color='r')\n",
    "plt.axvline(x=3, ls='--',ymax=0.25, color='r')\n",
    "plt.annotate(\"(4, 0.523)\", xy=(4, 0.52), xytext=(4, 2), textcoords='offset points')\n",
    "plt.axhline(y=0.9078484 ,ls='--', xmax=0.15,color='r')\n",
    "plt.axvline(x=15, ls='--',ymax=0.77,color='r')\n",
    "plt.annotate(\"(16, 0.908)\", xy=(15, 0.908), xytext=(6, 2), textcoords='offset points')\n",
    "plt.xlabel('Number of transactions')\n",
    "plt.ylabel('P(phishing address)')\n",
    "plt.savefig('P_phishing.jpg')"
   ]
  },
  {
   "cell_type": "code",
   "execution_count": null,
   "metadata": {},
   "outputs": [],
   "source": []
  },
  {
   "cell_type": "code",
   "execution_count": null,
   "metadata": {},
   "outputs": [],
   "source": [
    "dynamic_yfit"
   ]
  },
  {
   "cell_type": "code",
   "execution_count": null,
   "metadata": {},
   "outputs": [],
   "source": []
  },
  {
   "cell_type": "code",
   "execution_count": null,
   "metadata": {},
   "outputs": [],
   "source": []
  },
  {
   "cell_type": "code",
   "execution_count": null,
   "metadata": {},
   "outputs": [],
   "source": [
    "def get_sample_trival_feature(train_data):\n",
    "    #feature between from and block:\n",
    "    from_block_feature = train_data.groupby(['from'])['blockNumber'].agg([np.ptp, 'std']).add_prefix('from_block_')\n",
    "    from_value_feature = train_data.groupby(['from'])['value'].agg(['sum', 'mean', 'std', 'max', 'min']).add_prefix('from_value_')\n",
    "    from_feature = pd.concat([from_block_feature, from_value_feature], axis = 1)\n",
    "    #from_feature = from_feature.merge(left_on='from', right=train_address, right_on='address', how='right')\n",
    "    to_block_feature = train_data.groupby(['to'])['blockNumber'].agg([np.ptp, 'std']).add_prefix('to_block_')\n",
    "    to_value_feature = train_data.groupby(['to'])['value'].agg(['sum', 'mean', 'std', 'max', 'min']).add_prefix('to_value_')\n",
    "    to_feature = pd.concat([to_block_feature, to_value_feature], axis = 1)\n",
    "    from_feature.reset_index(inplace=True)\n",
    "    to_feature.reset_index(inplace=True)\n",
    "    #to_feature = to_feature.merge(left_on='to', right=train_address, right_on='address', how='right')\n",
    "    trival_feature = pd.merge(left=from_feature, right=to_feature, left_on='from', right_on='to', how='right')\n",
    "    trival_feature['address'] = trival_feature['to']\n",
    "    trival_feature.drop(['from', 'to'], axis = 1, inplace=True)\n",
    "    return trival_feature\n",
    "def get_sample_feature(train_data):\n",
    "    trival_feature = get_sample_trival_feature(train_data)\n",
    "    from_to_degree_feature, to_from_degree_feature = get_network_feature(train_data)\n",
    "    feature = trival_feature.merge(right=from_to_degree_feature, left_on='address', right_on='from', how='left')\n",
    "    feature = feature.merge(right=to_from_degree_feature, left_on='address', right_on='to',how='left')\n",
    "    feature.drop(['from','to'], inplace=True, axis = 1)\n",
    "    return feature"
   ]
  },
  {
   "cell_type": "markdown",
   "metadata": {},
   "source": [
    "### phishing 金额对比"
   ]
  },
  {
   "cell_type": "code",
   "execution_count": null,
   "metadata": {},
   "outputs": [],
   "source": [
    "sample_addr_data.iloc[0]['value']"
   ]
  },
  {
   "cell_type": "code",
   "execution_count": null,
   "metadata": {},
   "outputs": [],
   "source": [
    "phishing_sum = [sample_addr_data.iloc[0]['value']]\n",
    "model_expected_sum = [sample_addr_data.iloc[0]['value']]\n",
    "for i in range(1, len(sample_addr_data) - 1):\n",
    "    phishing_sum.append(phishing_sum[-1] + sample_addr_data.iloc[i]['value'])\n",
    "    model_expected_sum.append(model_expected_sum[-1] + sample_addr_data.iloc[i]['value'] * (1 - sample_dynamic_res[i - 1]))"
   ]
  },
  {
   "cell_type": "code",
   "execution_count": null,
   "metadata": {},
   "outputs": [],
   "source": [
    "pd.Series(phishing_sum).plot(label='Loss without model warning')\n",
    "pd.Series(model_expected_sum).plot(label='Loss with model warning')\n",
    "plt.xlabel('Number of transactions')\n",
    "plt.ylabel('Loss(Eth)')\n",
    "plt.legend()\n",
    "plt.savefig('Loss_with_model.jpg')"
   ]
  },
  {
   "cell_type": "code",
   "execution_count": null,
   "metadata": {},
   "outputs": [],
   "source": [
    "1 - model_expected_sum[-1] / phishing_sum[-1]"
   ]
  },
  {
   "cell_type": "code",
   "execution_count": null,
   "metadata": {},
   "outputs": [],
   "source": []
  },
  {
   "cell_type": "code",
   "execution_count": null,
   "metadata": {},
   "outputs": [],
   "source": [
    "tmp_pre = 0.819627554383652\n",
    "\n",
    "tmp_recall = 0.8049612759757687\n",
    "(tmp_pre * tmp_recall * 2) / (tmp_pre + tmp_recall)"
   ]
  },
  {
   "cell_type": "code",
   "execution_count": null,
   "metadata": {},
   "outputs": [],
   "source": [
    "all_address_set = set(train_data['from']).union(set(train_data['from']))"
   ]
  },
  {
   "cell_type": "code",
   "execution_count": null,
   "metadata": {},
   "outputs": [],
   "source": [
    "len(all_address_set)"
   ]
  },
  {
   "cell_type": "code",
   "execution_count": null,
   "metadata": {},
   "outputs": [],
   "source": []
  },
  {
   "cell_type": "code",
   "execution_count": null,
   "metadata": {},
   "outputs": [],
   "source": [
    "pd.DataFrame(lgb_model.feature_name()).to_csv('feature_names.csv')"
   ]
  },
  {
   "cell_type": "code",
   "execution_count": null,
   "metadata": {},
   "outputs": [],
   "source": []
  },
  {
   "cell_type": "markdown",
   "metadata": {},
   "source": [
    "## 不同feature frac 的影响"
   ]
  },
  {
   "cell_type": "code",
   "execution_count": null,
   "metadata": {},
   "outputs": [],
   "source": [
    "\n",
    "feature_frac_precision = []\n",
    "feature_frac_recall = []\n",
    "feature_frac_auc = []\n",
    "for i in range(20):\n",
    "    X_train, y_train = feature_matrix_to_train_matrix(feature, train_label)\n",
    "    dtrain = lgb.Dataset(X_train, label = y_train)\n",
    "    feature_frac_precision_tmp = lgb.cv(lgb_params, dtrain, num_boost_round=400,feval=lgb_pre_evalMetric, verbose_eval = 10, nfold=2,metrics=('lgb_pre_evalMetric'),\n",
    "           early_stopping_rounds= 100)\n",
    "    feature_frac_recall_tmp = lgb.cv(lgb_params, dtrain, num_boost_round=400,feval=lgb_recall_evalMetric, verbose_eval = 10, nfold=2,metrics=('lgb_recall_evalMetric'),\n",
    "           early_stopping_rounds= 100)   \n",
    "    feature_frac_auc_tmp = lgb.cv(lgb_params, dtrain, num_boost_round=400,feval=lgb_auc_evalMetric, verbose_eval = 10, nfold=2,metrics=('lgb_auc_evalMetric'),\n",
    "           early_stopping_rounds= 100)      \n",
    "    feature_frac_precision.append(max(feature_frac_precision_tmp['res-mean']))\n",
    "    feature_frac_recall.append(max(feature_frac_recall_tmp['res-mean']))\n",
    "    feature_frac_auc.append(max(feature_frac_auc_tmp['res-mean']))"
   ]
  },
  {
   "cell_type": "code",
   "execution_count": null,
   "metadata": {},
   "outputs": [],
   "source": [
    "np.mean(feature_frac_precision)"
   ]
  },
  {
   "cell_type": "code",
   "execution_count": null,
   "metadata": {},
   "outputs": [],
   "source": [
    "np.mean(feature_frac_recall)"
   ]
  },
  {
   "cell_type": "code",
   "execution_count": null,
   "metadata": {},
   "outputs": [],
   "source": [
    "np.mean(feature_frac_auc)"
   ]
  },
  {
   "cell_type": "code",
   "execution_count": null,
   "metadata": {},
   "outputs": [],
   "source": []
  },
  {
   "cell_type": "code",
   "execution_count": null,
   "metadata": {},
   "outputs": [],
   "source": []
  }
 ],
 "metadata": {
  "kernelspec": {
   "display_name": "Python 3",
   "language": "python",
   "name": "python3"
  },
  "language_info": {
   "codemirror_mode": {
    "name": "ipython",
    "version": 3
   },
   "file_extension": ".py",
   "mimetype": "text/x-python",
   "name": "python",
   "nbconvert_exporter": "python",
   "pygments_lexer": "ipython3",
   "version": "3.8.3"
  },
  "varInspector": {
   "cols": {
    "lenName": 16,
    "lenType": 16,
    "lenVar": 40
   },
   "kernels_config": {
    "python": {
     "delete_cmd_postfix": "",
     "delete_cmd_prefix": "del ",
     "library": "var_list.py",
     "varRefreshCmd": "print(var_dic_list())"
    },
    "r": {
     "delete_cmd_postfix": ") ",
     "delete_cmd_prefix": "rm(",
     "library": "var_list.r",
     "varRefreshCmd": "cat(var_dic_list()) "
    }
   },
   "oldHeight": 424.4,
   "position": {
    "height": "446.4px",
    "left": "627px",
    "right": "20px",
    "top": "58px",
    "width": "752px"
   },
   "types_to_exclude": [
    "module",
    "function",
    "builtin_function_or_method",
    "instance",
    "_Feature"
   ],
   "varInspector_section_display": "block",
   "window_display": false
  }
 },
 "nbformat": 4,
 "nbformat_minor": 2
}
