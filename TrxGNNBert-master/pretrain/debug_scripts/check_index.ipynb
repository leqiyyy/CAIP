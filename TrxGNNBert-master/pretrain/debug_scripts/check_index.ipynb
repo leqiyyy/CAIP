{
 "cells": [
  {
   "cell_type": "code",
   "execution_count": 1,
   "metadata": {},
   "outputs": [],
   "source": [
    "import torch\n",
    "import torch.nn as nn\n",
    "ei = torch.load('edge_index.pt')\n",
    "n = torch.load('x.pt')\n",
    "ea = torch.load('edge_attr.pt')"
   ]
  },
  {
   "cell_type": "code",
   "execution_count": 2,
   "metadata": {},
   "outputs": [
    {
     "name": "stdout",
     "output_type": "stream",
     "text": [
      "torch.Size([2, 359])\n",
      "torch.Size([366, 8192])\n",
      "torch.Size([359, 8192])\n"
     ]
    }
   ],
   "source": [
    "print(ei.shape)\n",
    "print(n.shape)\n",
    "print(ea.shape)"
   ]
  },
  {
   "cell_type": "code",
   "execution_count": 4,
   "metadata": {},
   "outputs": [
    {
     "name": "stdout",
     "output_type": "stream",
     "text": [
      "torch.int64\n",
      "cuda:0\n"
     ]
    }
   ],
   "source": [
    "print(ei.dtype)  # should be torch.long or torch.int64\n",
    "print(ei.device)  # cuda or cpu"
   ]
  },
  {
   "cell_type": "code",
   "execution_count": 5,
   "metadata": {},
   "outputs": [
    {
     "name": "stdout",
     "output_type": "stream",
     "text": [
      "tensor(-1, device='cuda:0') tensor(365, device='cuda:0')\n"
     ]
    }
   ],
   "source": [
    "print(ei.min(), ei.max())  # values should be within node index range\n"
   ]
  },
  {
   "cell_type": "code",
   "execution_count": null,
   "metadata": {},
   "outputs": [],
   "source": [
    "\n"
   ]
  }
 ],
 "metadata": {
  "kernelspec": {
   "display_name": "torch",
   "language": "python",
   "name": "python3"
  },
  "language_info": {
   "codemirror_mode": {
    "name": "ipython",
    "version": 3
   },
   "file_extension": ".py",
   "mimetype": "text/x-python",
   "name": "python",
   "nbconvert_exporter": "python",
   "pygments_lexer": "ipython3",
   "version": "3.10.12"
  }
 },
 "nbformat": 4,
 "nbformat_minor": 2
}
